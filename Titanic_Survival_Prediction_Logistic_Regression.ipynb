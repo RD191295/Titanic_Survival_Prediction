{
 "cells": [
  {
   "cell_type": "markdown",
   "id": "e4c10bb1",
   "metadata": {
    "papermill": {
     "duration": 0.026761,
     "end_time": "2022-07-02T09:07:34.198978",
     "exception": false,
     "start_time": "2022-07-02T09:07:34.172217",
     "status": "completed"
    },
    "tags": []
   },
   "source": [
    "<!DOCTYPE html>\n",
    "<html>\n",
    "<head>\n",
    "<title>\n",
    "</title>\n",
    "<meta name=\"viewport\" content=\"width=device-width, initial-scale=1\">\n",
    "</head>\n",
    "<body>\n",
    "<h1 style=\"color:DodgerBlue;\">\n",
    "1 IMPORTING LIBRARIES</h1>\n",
    "</body>\n",
    "</html>"
   ]
  },
  {
   "cell_type": "code",
   "execution_count": 1,
   "id": "76bbc454",
   "metadata": {
    "execution": {
     "iopub.execute_input": "2022-07-02T09:07:34.247212Z",
     "iopub.status.busy": "2022-07-02T09:07:34.246486Z",
     "iopub.status.idle": "2022-07-02T09:07:35.536256Z",
     "shell.execute_reply": "2022-07-02T09:07:35.535101Z"
    },
    "papermill": {
     "duration": 1.317411,
     "end_time": "2022-07-02T09:07:35.539348",
     "exception": false,
     "start_time": "2022-07-02T09:07:34.221937",
     "status": "completed"
    },
    "tags": []
   },
   "outputs": [],
   "source": [
    "import pandas as pd\n",
    "import numpy as np\n",
    "import seaborn as sns\n",
    "import matplotlib.pyplot as plt\n",
    "from sklearn.preprocessing import StandardScaler\n",
    "from sklearn.metrics import classification_report,confusion_matrix"
   ]
  },
  {
   "cell_type": "markdown",
   "id": "275ec0f1",
   "metadata": {
    "papermill": {
     "duration": 0.022319,
     "end_time": "2022-07-02T09:07:35.584369",
     "exception": false,
     "start_time": "2022-07-02T09:07:35.562050",
     "status": "completed"
    },
    "tags": []
   },
   "source": [
    "<!DOCTYPE html>\n",
    "<html>\n",
    "<head>\n",
    "<title>\n",
    "</title>\n",
    "<meta name=\"viewport\" content=\"width=device-width, initial-scale=1\">\n",
    "</head>\n",
    "<body>\n",
    "<h1 style=\"color:DodgerBlue;\">\n",
    "2 Data Import & Preprocessing</h1>\n",
    "</body>\n",
    "</html>"
   ]
  },
  {
   "cell_type": "code",
   "execution_count": 2,
   "id": "32bd665b",
   "metadata": {
    "execution": {
     "iopub.execute_input": "2022-07-02T09:07:35.632605Z",
     "iopub.status.busy": "2022-07-02T09:07:35.631842Z",
     "iopub.status.idle": "2022-07-02T09:07:35.658733Z",
     "shell.execute_reply": "2022-07-02T09:07:35.657847Z"
    },
    "papermill": {
     "duration": 0.053545,
     "end_time": "2022-07-02T09:07:35.661066",
     "exception": false,
     "start_time": "2022-07-02T09:07:35.607521",
     "status": "completed"
    },
    "tags": []
   },
   "outputs": [],
   "source": [
    "train_data = pd.read_csv(\"/kaggle/input/titanic/train.csv\")\n",
    "test_data = pd.read_csv(\"/kaggle/input/titanic/test.csv\")"
   ]
  },
  {
   "cell_type": "code",
   "execution_count": 3,
   "id": "b73a420f",
   "metadata": {
    "execution": {
     "iopub.execute_input": "2022-07-02T09:07:35.709091Z",
     "iopub.status.busy": "2022-07-02T09:07:35.708358Z",
     "iopub.status.idle": "2022-07-02T09:07:35.734439Z",
     "shell.execute_reply": "2022-07-02T09:07:35.733189Z"
    },
    "papermill": {
     "duration": 0.05417,
     "end_time": "2022-07-02T09:07:35.738192",
     "exception": false,
     "start_time": "2022-07-02T09:07:35.684022",
     "status": "completed"
    },
    "tags": []
   },
   "outputs": [
    {
     "name": "stdout",
     "output_type": "stream",
     "text": [
      "<class 'pandas.core.frame.DataFrame'>\n",
      "RangeIndex: 891 entries, 0 to 890\n",
      "Data columns (total 12 columns):\n",
      " #   Column       Non-Null Count  Dtype  \n",
      "---  ------       --------------  -----  \n",
      " 0   PassengerId  891 non-null    int64  \n",
      " 1   Survived     891 non-null    int64  \n",
      " 2   Pclass       891 non-null    int64  \n",
      " 3   Name         891 non-null    object \n",
      " 4   Sex          891 non-null    object \n",
      " 5   Age          714 non-null    float64\n",
      " 6   SibSp        891 non-null    int64  \n",
      " 7   Parch        891 non-null    int64  \n",
      " 8   Ticket       891 non-null    object \n",
      " 9   Fare         891 non-null    float64\n",
      " 10  Cabin        204 non-null    object \n",
      " 11  Embarked     889 non-null    object \n",
      "dtypes: float64(2), int64(5), object(5)\n",
      "memory usage: 83.7+ KB\n"
     ]
    }
   ],
   "source": [
    "# train data info\n",
    "train_data.info()"
   ]
  },
  {
   "cell_type": "code",
   "execution_count": 4,
   "id": "a2bd0b6d",
   "metadata": {
    "execution": {
     "iopub.execute_input": "2022-07-02T09:07:35.787284Z",
     "iopub.status.busy": "2022-07-02T09:07:35.786574Z",
     "iopub.status.idle": "2022-07-02T09:07:35.799418Z",
     "shell.execute_reply": "2022-07-02T09:07:35.797997Z"
    },
    "papermill": {
     "duration": 0.039838,
     "end_time": "2022-07-02T09:07:35.802240",
     "exception": false,
     "start_time": "2022-07-02T09:07:35.762402",
     "status": "completed"
    },
    "tags": []
   },
   "outputs": [
    {
     "name": "stdout",
     "output_type": "stream",
     "text": [
      "<class 'pandas.core.frame.DataFrame'>\n",
      "RangeIndex: 418 entries, 0 to 417\n",
      "Data columns (total 11 columns):\n",
      " #   Column       Non-Null Count  Dtype  \n",
      "---  ------       --------------  -----  \n",
      " 0   PassengerId  418 non-null    int64  \n",
      " 1   Pclass       418 non-null    int64  \n",
      " 2   Name         418 non-null    object \n",
      " 3   Sex          418 non-null    object \n",
      " 4   Age          332 non-null    float64\n",
      " 5   SibSp        418 non-null    int64  \n",
      " 6   Parch        418 non-null    int64  \n",
      " 7   Ticket       418 non-null    object \n",
      " 8   Fare         417 non-null    float64\n",
      " 9   Cabin        91 non-null     object \n",
      " 10  Embarked     418 non-null    object \n",
      "dtypes: float64(2), int64(4), object(5)\n",
      "memory usage: 36.0+ KB\n"
     ]
    }
   ],
   "source": [
    "# test data info\n",
    "test_data.info()"
   ]
  },
  {
   "cell_type": "code",
   "execution_count": 5,
   "id": "4e4fc093",
   "metadata": {
    "execution": {
     "iopub.execute_input": "2022-07-02T09:07:35.852276Z",
     "iopub.status.busy": "2022-07-02T09:07:35.851659Z",
     "iopub.status.idle": "2022-07-02T09:07:35.862183Z",
     "shell.execute_reply": "2022-07-02T09:07:35.861270Z"
    },
    "papermill": {
     "duration": 0.038636,
     "end_time": "2022-07-02T09:07:35.864361",
     "exception": false,
     "start_time": "2022-07-02T09:07:35.825725",
     "status": "completed"
    },
    "tags": []
   },
   "outputs": [
    {
     "data": {
      "text/plain": [
       "PassengerId      0\n",
       "Survived         0\n",
       "Pclass           0\n",
       "Name             0\n",
       "Sex              0\n",
       "Age            177\n",
       "SibSp            0\n",
       "Parch            0\n",
       "Ticket           0\n",
       "Fare             0\n",
       "Cabin          687\n",
       "Embarked         2\n",
       "dtype: int64"
      ]
     },
     "execution_count": 5,
     "metadata": {},
     "output_type": "execute_result"
    }
   ],
   "source": [
    "# let us check missing value for train data\n",
    "train_data.isnull().sum()"
   ]
  },
  {
   "cell_type": "code",
   "execution_count": 6,
   "id": "86e7389d",
   "metadata": {
    "execution": {
     "iopub.execute_input": "2022-07-02T09:07:35.913136Z",
     "iopub.status.busy": "2022-07-02T09:07:35.912520Z",
     "iopub.status.idle": "2022-07-02T09:07:35.921694Z",
     "shell.execute_reply": "2022-07-02T09:07:35.920692Z"
    },
    "papermill": {
     "duration": 0.036547,
     "end_time": "2022-07-02T09:07:35.924266",
     "exception": false,
     "start_time": "2022-07-02T09:07:35.887719",
     "status": "completed"
    },
    "tags": []
   },
   "outputs": [
    {
     "data": {
      "text/plain": [
       "PassengerId      0\n",
       "Pclass           0\n",
       "Name             0\n",
       "Sex              0\n",
       "Age             86\n",
       "SibSp            0\n",
       "Parch            0\n",
       "Ticket           0\n",
       "Fare             1\n",
       "Cabin          327\n",
       "Embarked         0\n",
       "dtype: int64"
      ]
     },
     "execution_count": 6,
     "metadata": {},
     "output_type": "execute_result"
    }
   ],
   "source": [
    "# let us check missing value for test data\n",
    "test_data.isnull().sum()"
   ]
  },
  {
   "cell_type": "markdown",
   "id": "57d82b9d",
   "metadata": {
    "papermill": {
     "duration": 0.023263,
     "end_time": "2022-07-02T09:07:35.970997",
     "exception": false,
     "start_time": "2022-07-02T09:07:35.947734",
     "status": "completed"
    },
    "tags": []
   },
   "source": [
    "<!DOCTYPE html PUBLIC \"-//W3C//DTD HTML 4.01//EN\" \"http://www.w3.org/TR/html4/strict.dtd\">\n",
    "<html style = \"font-family:Calibri, Arial, Helvetica, sans-serif; font-size:11pt; background-color:white \">\n",
    "  <head>\n",
    "      <meta http-equiv=\"Content-Type\" content=\"text/html; charset=utf-8\">\n",
    "      <meta name=\"generator\" content=\"PhpSpreadsheet, https://github.com/PHPOffice/PhpSpreadsheet\">\n",
    "      <meta name=\"author\" content=\"Raj Dalsaniya\" />\n",
    "    <style type=\"text/css\">\n",
    "      a.comment-indicator:hover + div.comment { background:#ffd; position:absolute; display:block; border:1px solid black; padding:0.5em }\n",
    "      a.comment-indicator { background:red; display:inline-block; border:1px solid black; width:0.5em; height:0.5em }\n",
    "      div.comment { display:none }\n",
    "      table { border-collapse:collapse; page-break-after:always }\n",
    "      .gridlines td { border:1px dotted black }\n",
    "      .gridlines th { border:1px dotted black }\n",
    "      .b { text-align:center }\n",
    "      .e { text-align:center }\n",
    "      .f { text-align:right }\n",
    "      .inlineStr { text-align:left }\n",
    "      .n { text-align:right }\n",
    "      .s { text-align:left }\n",
    "      td.style0 { vertical-align:bottom; border-bottom:none #000000; border-top:none #000000; border-left:none #000000; border-right:none #000000; color:#000000; font-family:'Calibri'; font-size:11pt; background-color:white }\n",
    "      th.style0 { vertical-align:bottom; border-bottom:none #000000; border-top:none #000000; border-left:none #000000; border-right:none #000000; color:#000000; font-family:'Calibri'; font-size:11pt; background-color:white }\n",
    "      td.style1 { vertical-align:middle; text-align:center; border-bottom:none #000000; border-top:none #000000; border-left:none #000000; border-right:none #000000; color:#000000; font-family:'Calibri'; font-size:11pt; background-color:white }\n",
    "      th.style1 { vertical-align:middle; text-align:center; border-bottom:none #000000; border-top:none #000000; border-left:none #000000; border-right:none #000000; color:#000000; font-family:'Calibri'; font-size:11pt; background-color:white }\n",
    "      td.style2 { vertical-align:bottom; text-align:center; border-bottom:1px solid #000000 !important; border-top:1px solid #000000 !important; border-left:1px solid #000000 !important; border-right:1px solid #000000 !important; color:#000000; font-family:'Calibri'; font-size:11pt; background-color:white }\n",
    "      th.style2 { vertical-align:bottom; text-align:center; border-bottom:1px solid #000000 !important; border-top:1px solid #000000 !important; border-left:1px solid #000000 !important; border-right:1px solid #000000 !important; color:#000000; font-family:'Calibri'; font-size:11pt; background-color:white }\n",
    "      td.style3 { vertical-align:middle; text-align:center; border-bottom:1px solid #000000 !important; border-top:1px solid #000000 !important; border-left:1px solid #000000 !important; border-right:1px solid #000000 !important; color:#000000; font-family:'Var(--jp-code-font-family)'; font-size:10pt; background-color:white }\n",
    "      th.style3 { vertical-align:middle; text-align:center; border-bottom:1px solid #000000 !important; border-top:1px solid #000000 !important; border-left:1px solid #000000 !important; border-right:1px solid #000000 !important; color:#000000; font-family:'Var(--jp-code-font-family)'; font-size:10pt; background-color:white }\n",
    "      td.style4 { vertical-align:middle; text-align:center; border-bottom:1px solid #000000 !important; border-top:1px solid #000000 !important; border-left:1px solid #000000 !important; border-right:1px solid #000000 !important; color:#000000; font-family:'Calibri'; font-size:11pt; background-color:white }\n",
    "      th.style4 { vertical-align:middle; text-align:center; border-bottom:1px solid #000000 !important; border-top:1px solid #000000 !important; border-left:1px solid #000000 !important; border-right:1px solid #000000 !important; color:#000000; font-family:'Calibri'; font-size:11pt; background-color:white }\n",
    "      td.style5 { vertical-align:middle; text-align:center; border-bottom:1px solid #000000 !important; border-top:1px solid #000000 !important; border-left:1px solid #000000 !important; border-right:1px solid #000000 !important; color:#000000; font-family:'Calibri'; font-size:11pt; background-color:#FFFF00 }\n",
    "      th.style5 { vertical-align:middle; text-align:center; border-bottom:1px solid #000000 !important; border-top:1px solid #000000 !important; border-left:1px solid #000000 !important; border-right:1px solid #000000 !important; color:#000000; font-family:'Calibri'; font-size:11pt; background-color:#FFFF00 }\n",
    "      td.style6 { vertical-align:middle; text-align:center; border-bottom:1px solid #000000 !important; border-top:1px solid #000000 !important; border-left:1px solid #000000 !important; border-right:1px solid #000000 !important; color:#000000; font-family:'Calibri'; font-size:11pt; background-color:#4472C4 }\n",
    "      th.style6 { vertical-align:middle; text-align:center; border-bottom:1px solid #000000 !important; border-top:1px solid #000000 !important; border-left:1px solid #000000 !important; border-right:1px solid #000000 !important; color:#000000; font-family:'Calibri'; font-size:11pt; background-color:#4472C4 }\n",
    "      td.style7 { vertical-align:middle; text-align:center; border-bottom:none #000000; border-top:none #000000; border-left:none #000000; border-right:none #000000; color:#000000; font-family:'Calibri'; font-size:11pt; background-color:#FFFFFF }\n",
    "      th.style7 { vertical-align:middle; text-align:center; border-bottom:none #000000; border-top:none #000000; border-left:none #000000; border-right:none #000000; color:#000000; font-family:'Calibri'; font-size:11pt; background-color:#FFFFFF }\n",
    "      td.style8 { vertical-align:middle; text-align:center; border-bottom:none #000000; border-top:none #000000; border-left:none #000000; border-right:none #000000; color:#000000; font-family:'Var(--jp-code-font-family)'; font-size:10pt; background-color:#FFFFFF }\n",
    "      th.style8 { vertical-align:middle; text-align:center; border-bottom:none #000000; border-top:none #000000; border-left:none #000000; border-right:none #000000; color:#000000; font-family:'Var(--jp-code-font-family)'; font-size:10pt; background-color:#FFFFFF }\n",
    "      table.sheet0 col.col0 { width:91.49999895pt }\n",
    "      table.sheet0 col.col1 { width:91.49999895pt }\n",
    "      table.sheet0 col.col2 { width:91.49999895pt }\n",
    "      table.sheet0 col.col3 { width:26.43333303pt }\n",
    "      table.sheet0 col.col4 { width:42pt }\n",
    "      table.sheet0 col.col5 { width:42pt }\n",
    "      table.sheet0 col.col6 { width:42pt }\n",
    "      table.sheet0 tr { height:15pt }\n",
    "    </style>\n",
    "  </head>\n",
    "\n",
    "  <body>\n",
    "<style>\n",
    "@page { margin-left: 0.7in; margin-right: 0.7in; margin-top: 0.75in; margin-bottom: 0.75in; }\n",
    "body { margin-left: 0.7in; margin-right: 0.7in; margin-top: 0.75in; margin-bottom: 0.75in; }\n",
    "</style>\n",
    "    <table border=\"0\" cellpadding=\"0\" cellspacing=\"0\" id=\"sheet0\" class=\"sheet0 gridlines\">\n",
    "        <col class=\"col0\">\n",
    "        <col class=\"col1\">\n",
    "        <col class=\"col2\">\n",
    "        <col class=\"col3\">\n",
    "        <col class=\"col4\">\n",
    "        <col class=\"col5\">\n",
    "        <col class=\"col6\">\n",
    "        <tbody>\n",
    "          <tr class=\"row0\">\n",
    "            <td class=\"column0 style5 s style5\" colspan=\"3\">TRAIN DATA</td>\n",
    "            <td class=\"column3 style7 null\"></td>\n",
    "            <td class=\"column4 style5 s style5\" colspan=\"3\">TEST DATA</td>\n",
    "          </tr>\n",
    "          <tr class=\"row1\">\n",
    "            <td class=\"column0 style6 s\">Column</td>\n",
    "            <td class=\"column1 style6 s\">Missing Row Count</td>\n",
    "            <td class=\"column2 style6 s\">Dtype</td>\n",
    "            <td class=\"column3 style7 null\"></td>\n",
    "            <td class=\"column4 style6 s\">Column</td>\n",
    "            <td class=\"column5 style6 s\">Missing Row Count</td>\n",
    "            <td class=\"column6 style6 s\">Dtype</td>\n",
    "          </tr>\n",
    "          <tr class=\"row2\">\n",
    "            <td class=\"column0 style3 s\">PassengerId      </td>\n",
    "            <td class=\"column1 style4 n\">0</td>\n",
    "            <td class=\"column2 style3 s\">int64  </td>\n",
    "            <td class=\"column3 style8 null\"></td>\n",
    "            <td class=\"column4 style3 s\">PassengerId      </td>\n",
    "            <td class=\"column5 style2 n\">0</td>\n",
    "            <td class=\"column6 style3 s\">int64  </td>\n",
    "          </tr>\n",
    "          <tr class=\"row3\">\n",
    "            <td class=\"column0 style3 s\">Survived         </td>\n",
    "            <td class=\"column1 style4 n\">0</td>\n",
    "            <td class=\"column2 style3 s\">int64  </td>\n",
    "            <td class=\"column3 style8 null\"></td>\n",
    "            <td class=\"column4 style3 s\">Survived         </td>\n",
    "            <td class=\"column5 style2 n\">0</td>\n",
    "            <td class=\"column6 style3 s\">int64  </td>\n",
    "          </tr>\n",
    "          <tr class=\"row4\">\n",
    "            <td class=\"column0 style3 s\">Pclass           </td>\n",
    "            <td class=\"column1 style4 n\">0</td>\n",
    "            <td class=\"column2 style3 s\">int64  </td>\n",
    "            <td class=\"column3 style8 null\"></td>\n",
    "            <td class=\"column4 style3 s\">Pclass           </td>\n",
    "            <td class=\"column5 style2 n\">0</td>\n",
    "            <td class=\"column6 style3 s\">int64  </td>\n",
    "          </tr>\n",
    "          <tr class=\"row5\">\n",
    "            <td class=\"column0 style3 s\">Name             </td>\n",
    "            <td class=\"column1 style4 n\">0</td>\n",
    "            <td class=\"column2 style4 s\">object</td>\n",
    "            <td class=\"column3 style7 null\"></td>\n",
    "            <td class=\"column4 style3 s\">Name             </td>\n",
    "            <td class=\"column5 style2 n\">0</td>\n",
    "            <td class=\"column6 style4 s\">object</td>\n",
    "          </tr>\n",
    "          <tr class=\"row6\">\n",
    "            <td class=\"column0 style3 s\">Sex              </td>\n",
    "            <td class=\"column1 style4 n\">0</td>\n",
    "            <td class=\"column2 style4 s\">object</td>\n",
    "            <td class=\"column3 style7 null\"></td>\n",
    "            <td class=\"column4 style3 s\">Sex              </td>\n",
    "            <td class=\"column5 style2 n\">0</td>\n",
    "            <td class=\"column6 style4 s\">object</td>\n",
    "          </tr>\n",
    "          <tr class=\"row7\">\n",
    "            <td class=\"column0 style3 s\">Age            </td>\n",
    "            <td class=\"column1 style4 n\">177</td>\n",
    "            <td class=\"column2 style3 s\">float64</td>\n",
    "            <td class=\"column3 style8 null\"></td>\n",
    "            <td class=\"column4 style3 s\">Age            </td>\n",
    "            <td class=\"column5 style2 n\">86</td>\n",
    "            <td class=\"column6 style3 s\">float64</td>\n",
    "          </tr>\n",
    "          <tr class=\"row8\">\n",
    "            <td class=\"column0 style3 s\">SibSp            </td>\n",
    "            <td class=\"column1 style4 n\">0</td>\n",
    "            <td class=\"column2 style3 s\">int64  </td>\n",
    "            <td class=\"column3 style8 null\"></td>\n",
    "            <td class=\"column4 style3 s\">SibSp            </td>\n",
    "            <td class=\"column5 style2 n\">0</td>\n",
    "            <td class=\"column6 style3 s\">int64  </td>\n",
    "          </tr>\n",
    "          <tr class=\"row9\">\n",
    "            <td class=\"column0 style3 s\">Parch            </td>\n",
    "            <td class=\"column1 style4 n\">0</td>\n",
    "            <td class=\"column2 style3 s\">int64  </td>\n",
    "            <td class=\"column3 style8 null\"></td>\n",
    "            <td class=\"column4 style3 s\">Parch            </td>\n",
    "            <td class=\"column5 style2 n\">0</td>\n",
    "            <td class=\"column6 style3 s\">int64  </td>\n",
    "          </tr>\n",
    "          <tr class=\"row10\">\n",
    "            <td class=\"column0 style3 s\">Ticket           </td>\n",
    "            <td class=\"column1 style4 n\">0</td>\n",
    "            <td class=\"column2 style4 s\">object</td>\n",
    "            <td class=\"column3 style7 null\"></td>\n",
    "            <td class=\"column4 style3 s\">Ticket           </td>\n",
    "            <td class=\"column5 style2 n\">0</td>\n",
    "            <td class=\"column6 style4 s\">object</td>\n",
    "          </tr>\n",
    "          <tr class=\"row11\">\n",
    "            <td class=\"column0 style3 s\">Fare             </td>\n",
    "            <td class=\"column1 style4 n\">0</td>\n",
    "            <td class=\"column2 style3 s\">float64</td>\n",
    "            <td class=\"column3 style8 null\"></td>\n",
    "            <td class=\"column4 style3 s\">Fare             </td>\n",
    "            <td class=\"column5 style2 n\">1</td>\n",
    "            <td class=\"column6 style3 s\">float64</td>\n",
    "          </tr>\n",
    "          <tr class=\"row12\">\n",
    "            <td class=\"column0 style3 s\">Cabin          </td>\n",
    "            <td class=\"column1 style4 n\">687</td>\n",
    "            <td class=\"column2 style4 s\">object</td>\n",
    "            <td class=\"column3 style7 null\"></td>\n",
    "            <td class=\"column4 style3 s\">Cabin          </td>\n",
    "            <td class=\"column5 style2 n\">327</td>\n",
    "            <td class=\"column6 style4 s\">object</td>\n",
    "          </tr>\n",
    "          <tr class=\"row13\">\n",
    "            <td class=\"column0 style3 s\">Embarked         </td>\n",
    "            <td class=\"column1 style4 n\">2</td>\n",
    "            <td class=\"column2 style4 s\">object</td>\n",
    "            <td class=\"column3 style7 null\"></td>\n",
    "            <td class=\"column4 style3 s\">Embarked         </td>\n",
    "            <td class=\"column5 style2 n\">0</td>\n",
    "            <td class=\"column6 style4 s\">object</td>\n",
    "          </tr>\n",
    "        </tbody>\n",
    "    </table>\n",
    "  </body>\n",
    "</html>"
   ]
  },
  {
   "cell_type": "code",
   "execution_count": 7,
   "id": "a43a865c",
   "metadata": {
    "execution": {
     "iopub.execute_input": "2022-07-02T09:07:36.020481Z",
     "iopub.status.busy": "2022-07-02T09:07:36.020085Z",
     "iopub.status.idle": "2022-07-02T09:07:36.046526Z",
     "shell.execute_reply": "2022-07-02T09:07:36.045386Z"
    },
    "papermill": {
     "duration": 0.053666,
     "end_time": "2022-07-02T09:07:36.049046",
     "exception": false,
     "start_time": "2022-07-02T09:07:35.995380",
     "status": "completed"
    },
    "tags": []
   },
   "outputs": [
    {
     "data": {
      "text/html": [
       "<div>\n",
       "<style scoped>\n",
       "    .dataframe tbody tr th:only-of-type {\n",
       "        vertical-align: middle;\n",
       "    }\n",
       "\n",
       "    .dataframe tbody tr th {\n",
       "        vertical-align: top;\n",
       "    }\n",
       "\n",
       "    .dataframe thead th {\n",
       "        text-align: right;\n",
       "    }\n",
       "</style>\n",
       "<table border=\"1\" class=\"dataframe\">\n",
       "  <thead>\n",
       "    <tr style=\"text-align: right;\">\n",
       "      <th></th>\n",
       "      <th>Feature 1</th>\n",
       "      <th>Feature 2</th>\n",
       "      <th>Correlation coefficeint</th>\n",
       "    </tr>\n",
       "  </thead>\n",
       "  <tbody>\n",
       "    <tr>\n",
       "      <th>5</th>\n",
       "      <td>Age</td>\n",
       "      <td>Age</td>\n",
       "      <td>1.000000</td>\n",
       "    </tr>\n",
       "    <tr>\n",
       "      <th>12</th>\n",
       "      <td>Age</td>\n",
       "      <td>Pclass</td>\n",
       "      <td>0.369226</td>\n",
       "    </tr>\n",
       "    <tr>\n",
       "      <th>16</th>\n",
       "      <td>Age</td>\n",
       "      <td>SibSp</td>\n",
       "      <td>0.308247</td>\n",
       "    </tr>\n",
       "    <tr>\n",
       "      <th>21</th>\n",
       "      <td>Age</td>\n",
       "      <td>Parch</td>\n",
       "      <td>0.189119</td>\n",
       "    </tr>\n",
       "    <tr>\n",
       "      <th>26</th>\n",
       "      <td>Age</td>\n",
       "      <td>Fare</td>\n",
       "      <td>0.096067</td>\n",
       "    </tr>\n",
       "    <tr>\n",
       "      <th>32</th>\n",
       "      <td>Age</td>\n",
       "      <td>Survived</td>\n",
       "      <td>0.077221</td>\n",
       "    </tr>\n",
       "    <tr>\n",
       "      <th>36</th>\n",
       "      <td>Age</td>\n",
       "      <td>PassengerId</td>\n",
       "      <td>0.036847</td>\n",
       "    </tr>\n",
       "  </tbody>\n",
       "</table>\n",
       "</div>"
      ],
      "text/plain": [
       "   Feature 1    Feature 2  Correlation coefficeint\n",
       "5        Age          Age                 1.000000\n",
       "12       Age       Pclass                 0.369226\n",
       "16       Age        SibSp                 0.308247\n",
       "21       Age        Parch                 0.189119\n",
       "26       Age         Fare                 0.096067\n",
       "32       Age     Survived                 0.077221\n",
       "36       Age  PassengerId                 0.036847"
      ]
     },
     "execution_count": 7,
     "metadata": {},
     "output_type": "execute_result"
    }
   ],
   "source": [
    "# let see train_data correlation for Age column with other columns\n",
    "train_data_corr = train_data.corr().abs().unstack().sort_values(kind = \"quicksort\", ascending = False).reset_index()\n",
    "\n",
    "train_data_corr.rename(columns = {\"level_0\":\"Feature 1\",\"level_1\":\"Feature 2\",0:\"Correlation coefficeint\"},inplace = True)\n",
    "train_data_corr[train_data_corr['Feature 1'] == 'Age']"
   ]
  },
  {
   "cell_type": "markdown",
   "id": "ff6029b5",
   "metadata": {
    "papermill": {
     "duration": 0.023096,
     "end_time": "2022-07-02T09:07:36.095637",
     "exception": false,
     "start_time": "2022-07-02T09:07:36.072541",
     "status": "completed"
    },
    "tags": []
   },
   "source": [
    "<!DOCTYPE html>\n",
    "<html>\n",
    "<head>\n",
    "<title>\n",
    "</title>\n",
    "<meta name=\"viewport\" content=\"width=device-width, initial-scale=1\">\n",
    "</head>\n",
    "<body>\n",
    "<h1 style=\"color:Red;\">\n",
    "Age Variable :\n",
    "</h1>\n",
    "<h2 style=\"color:DodgerBlue;\">\n",
    "Missing value in Age Group, we will fill using median. using whole dataset median value of Age is not good idea. since Age and Pclass is highly correlated with survival ( output variable) . so it is more good to grup age by Pclass.\n",
    "</h2>\n",
    "</body>\n",
    "</html>"
   ]
  },
  {
   "cell_type": "code",
   "execution_count": 8,
   "id": "41ae6372",
   "metadata": {
    "execution": {
     "iopub.execute_input": "2022-07-02T09:07:36.145006Z",
     "iopub.status.busy": "2022-07-02T09:07:36.144358Z",
     "iopub.status.idle": "2022-07-02T09:07:36.168767Z",
     "shell.execute_reply": "2022-07-02T09:07:36.167215Z"
    },
    "papermill": {
     "duration": 0.052439,
     "end_time": "2022-07-02T09:07:36.171521",
     "exception": false,
     "start_time": "2022-07-02T09:07:36.119082",
     "status": "completed"
    },
    "tags": []
   },
   "outputs": [
    {
     "name": "stdout",
     "output_type": "stream",
     "text": [
      "median value of pclass 1 female is:35.0\n",
      "median value of pclass 1 male is:40.0\n",
      "median value of pclass 2 female is:28.0\n",
      "median value of pclass 2 male is:30.0\n",
      "median value of pclass 3 female is:21.5\n",
      "median value of pclass 3 male is:25.0\n",
      "Median age of all passengers: 28.0\n"
     ]
    }
   ],
   "source": [
    "age_by_pclass_sex = train_data.groupby([\"Pclass\",\"Sex\"]).median()[\"Age\"]\n",
    "for pclass in range(1,4):\n",
    "    for sex in [\"female\",\"male\"] :\n",
    "        print(\"median value of pclass \"+str(pclass)+\" \"+ sex+\" is:\"+str(age_by_pclass_sex[pclass][sex]))\n",
    "print('Median age of all passengers: {}'.format(train_data['Age'].median()))\n",
    "\n",
    "# let us impute missing age value using group of Pclass and sex\n",
    "train_data[\"Age\"] = train_data.groupby([\"Pclass\",\"Sex\"])[\"Age\"].apply(lambda x:x.fillna(x.median()))"
   ]
  },
  {
   "cell_type": "code",
   "execution_count": 9,
   "id": "2e2ca5fa",
   "metadata": {
    "execution": {
     "iopub.execute_input": "2022-07-02T09:07:36.221458Z",
     "iopub.status.busy": "2022-07-02T09:07:36.220359Z",
     "iopub.status.idle": "2022-07-02T09:07:36.239037Z",
     "shell.execute_reply": "2022-07-02T09:07:36.237854Z"
    },
    "papermill": {
     "duration": 0.046807,
     "end_time": "2022-07-02T09:07:36.242005",
     "exception": false,
     "start_time": "2022-07-02T09:07:36.195198",
     "status": "completed"
    },
    "tags": []
   },
   "outputs": [
    {
     "name": "stdout",
     "output_type": "stream",
     "text": [
      "median value of pclass 1 female is:41.0\n",
      "median value of pclass 1 male is:42.0\n",
      "median value of pclass 2 female is:24.0\n",
      "median value of pclass 2 male is:28.0\n",
      "median value of pclass 3 female is:22.0\n",
      "median value of pclass 3 male is:24.0\n",
      "Median age of all passengers: 27.0\n"
     ]
    }
   ],
   "source": [
    "age_by_pclass_sex_test = test_data.groupby([\"Pclass\",\"Sex\"]).median()[\"Age\"]\n",
    "for pclass in range(1,4):\n",
    "    for sex in [\"female\",\"male\"]:\n",
    "        print(\"median value of pclass \"+str(pclass)+\" \"+ sex+\" is:\"+str(age_by_pclass_sex_test[pclass][sex]))\n",
    "print('Median age of all passengers: {}'.format(test_data['Age'].median()))\n",
    "\n",
    "# let us impute missing age value using group of Pclass and sex for test data\n",
    "test_data[\"Age\"] = test_data.groupby([\"Pclass\",\"Sex\"])[\"Age\"].apply(lambda x:x.fillna(x.median()))"
   ]
  },
  {
   "cell_type": "code",
   "execution_count": 10,
   "id": "499d4b0e",
   "metadata": {
    "execution": {
     "iopub.execute_input": "2022-07-02T09:07:36.292291Z",
     "iopub.status.busy": "2022-07-02T09:07:36.291434Z",
     "iopub.status.idle": "2022-07-02T09:07:36.307033Z",
     "shell.execute_reply": "2022-07-02T09:07:36.306113Z"
    },
    "papermill": {
     "duration": 0.042763,
     "end_time": "2022-07-02T09:07:36.309186",
     "exception": false,
     "start_time": "2022-07-02T09:07:36.266423",
     "status": "completed"
    },
    "tags": []
   },
   "outputs": [
    {
     "data": {
      "text/html": [
       "<div>\n",
       "<style scoped>\n",
       "    .dataframe tbody tr th:only-of-type {\n",
       "        vertical-align: middle;\n",
       "    }\n",
       "\n",
       "    .dataframe tbody tr th {\n",
       "        vertical-align: top;\n",
       "    }\n",
       "\n",
       "    .dataframe thead th {\n",
       "        text-align: right;\n",
       "    }\n",
       "</style>\n",
       "<table border=\"1\" class=\"dataframe\">\n",
       "  <thead>\n",
       "    <tr style=\"text-align: right;\">\n",
       "      <th></th>\n",
       "      <th>PassengerId</th>\n",
       "      <th>Survived</th>\n",
       "      <th>Pclass</th>\n",
       "      <th>Name</th>\n",
       "      <th>Sex</th>\n",
       "      <th>Age</th>\n",
       "      <th>SibSp</th>\n",
       "      <th>Parch</th>\n",
       "      <th>Ticket</th>\n",
       "      <th>Fare</th>\n",
       "      <th>Cabin</th>\n",
       "      <th>Embarked</th>\n",
       "    </tr>\n",
       "  </thead>\n",
       "  <tbody>\n",
       "    <tr>\n",
       "      <th>61</th>\n",
       "      <td>62</td>\n",
       "      <td>1</td>\n",
       "      <td>1</td>\n",
       "      <td>Icard, Miss. Amelie</td>\n",
       "      <td>female</td>\n",
       "      <td>38.0</td>\n",
       "      <td>0</td>\n",
       "      <td>0</td>\n",
       "      <td>113572</td>\n",
       "      <td>80.0</td>\n",
       "      <td>B28</td>\n",
       "      <td>NaN</td>\n",
       "    </tr>\n",
       "    <tr>\n",
       "      <th>829</th>\n",
       "      <td>830</td>\n",
       "      <td>1</td>\n",
       "      <td>1</td>\n",
       "      <td>Stone, Mrs. George Nelson (Martha Evelyn)</td>\n",
       "      <td>female</td>\n",
       "      <td>62.0</td>\n",
       "      <td>0</td>\n",
       "      <td>0</td>\n",
       "      <td>113572</td>\n",
       "      <td>80.0</td>\n",
       "      <td>B28</td>\n",
       "      <td>NaN</td>\n",
       "    </tr>\n",
       "  </tbody>\n",
       "</table>\n",
       "</div>"
      ],
      "text/plain": [
       "     PassengerId  Survived  Pclass                                       Name  \\\n",
       "61            62         1       1                        Icard, Miss. Amelie   \n",
       "829          830         1       1  Stone, Mrs. George Nelson (Martha Evelyn)   \n",
       "\n",
       "        Sex   Age  SibSp  Parch  Ticket  Fare Cabin Embarked  \n",
       "61   female  38.0      0      0  113572  80.0   B28      NaN  \n",
       "829  female  62.0      0      0  113572  80.0   B28      NaN  "
      ]
     },
     "execution_count": 10,
     "metadata": {},
     "output_type": "execute_result"
    }
   ],
   "source": [
    "train_data[train_data[\"Embarked\"].isnull()]"
   ]
  },
  {
   "cell_type": "code",
   "execution_count": 11,
   "id": "0f370c99",
   "metadata": {
    "execution": {
     "iopub.execute_input": "2022-07-02T09:07:36.358829Z",
     "iopub.status.busy": "2022-07-02T09:07:36.358191Z",
     "iopub.status.idle": "2022-07-02T09:07:36.368813Z",
     "shell.execute_reply": "2022-07-02T09:07:36.368063Z"
    },
    "papermill": {
     "duration": 0.038213,
     "end_time": "2022-07-02T09:07:36.371126",
     "exception": false,
     "start_time": "2022-07-02T09:07:36.332913",
     "status": "completed"
    },
    "tags": []
   },
   "outputs": [
    {
     "data": {
      "text/plain": [
       "Embarked  Sex   \n",
       "C         female     73\n",
       "          male       95\n",
       "Q         female     36\n",
       "          male       41\n",
       "S         female    203\n",
       "          male      441\n",
       "Name: Age, dtype: int64"
      ]
     },
     "execution_count": 11,
     "metadata": {},
     "output_type": "execute_result"
    }
   ],
   "source": [
    "embarked_by_Sex = train_data.groupby([\"Embarked\",\"Sex\"]).count()[\"Age\"]\n",
    "embarked_by_Sex"
   ]
  },
  {
   "cell_type": "markdown",
   "id": "a3995479",
   "metadata": {
    "papermill": {
     "duration": 0.023766,
     "end_time": "2022-07-02T09:07:36.419512",
     "exception": false,
     "start_time": "2022-07-02T09:07:36.395746",
     "status": "completed"
    },
    "tags": []
   },
   "source": [
    "<!DOCTYPE html>\n",
    "<html>\n",
    "<head>\n",
    "<title>\n",
    "</title>\n",
    "<meta name=\"viewport\" content=\"width=device-width, initial-scale=1\">\n",
    "</head>\n",
    "<body>\n",
    "<h1 style=\"color:Red;\">\n",
    "Embarked Variable :\n",
    "</h1>\n",
    "<h2 style=\"color:DodgerBlue;\">\n",
    "Embarked column is categorical variable. There is 2 value missing in embarked column. since there is only 2 value missing shown above.both passenger holding same ticket number and both are female.Since Both holding same ticket we know both embarked from same port. Mode value for embarked for female is S but this is not necessarily true. let check if we find something on internet\n",
    "</h2>\n",
    "</body>\n",
    "</html> ."
   ]
  },
  {
   "cell_type": "markdown",
   "id": "bdff00e1",
   "metadata": {
    "papermill": {
     "duration": 0.024214,
     "end_time": "2022-07-02T09:07:36.467841",
     "exception": false,
     "start_time": "2022-07-02T09:07:36.443627",
     "status": "completed"
    },
    "tags": []
   },
   "source": [
    "<!DOCTYPE html>\n",
    "<html>\n",
    "<head>\n",
    "<title>\n",
    "</title>\n",
    "<meta name=\"viewport\" content=\"width=device-width, initial-scale=1\">\n",
    "</head>\n",
    "<body>\n",
    "<h3 style=\"color:DodgerBlue;\">\n",
    "When I search about Stone, Mrs. George Nelson (Martha Evelyn), on google. i found some information . you can check on this <a href=\" https://www.encyclopedia-titanica.org/titanic-survivor/martha-evelyn-stone.html\">link</a> From below image is clear that Martha Evelyn embarked from S port\n",
    "</h3>\n",
    "<a href=\"https://imgbb.com/\"><img src=\"https://i.ibb.co/0qS1818/test-1.jpg\" alt=\"test-1\" border=\"0\"></a><br />\n",
    "</body>\n",
    "</html> .\n"
   ]
  },
  {
   "cell_type": "code",
   "execution_count": 12,
   "id": "c1f17dbf",
   "metadata": {
    "execution": {
     "iopub.execute_input": "2022-07-02T09:07:36.518432Z",
     "iopub.status.busy": "2022-07-02T09:07:36.517696Z",
     "iopub.status.idle": "2022-07-02T09:07:36.523328Z",
     "shell.execute_reply": "2022-07-02T09:07:36.522380Z"
    },
    "papermill": {
     "duration": 0.033755,
     "end_time": "2022-07-02T09:07:36.525659",
     "exception": false,
     "start_time": "2022-07-02T09:07:36.491904",
     "status": "completed"
    },
    "tags": []
   },
   "outputs": [],
   "source": [
    "# let impute missing data in Embarked column with S\n",
    "train_data['Embarked'] = train_data['Embarked'].fillna('S')"
   ]
  },
  {
   "cell_type": "code",
   "execution_count": 13,
   "id": "372ecb80",
   "metadata": {
    "execution": {
     "iopub.execute_input": "2022-07-02T09:07:36.575911Z",
     "iopub.status.busy": "2022-07-02T09:07:36.575377Z",
     "iopub.status.idle": "2022-07-02T09:07:36.591609Z",
     "shell.execute_reply": "2022-07-02T09:07:36.590543Z"
    },
    "papermill": {
     "duration": 0.044298,
     "end_time": "2022-07-02T09:07:36.593962",
     "exception": false,
     "start_time": "2022-07-02T09:07:36.549664",
     "status": "completed"
    },
    "tags": []
   },
   "outputs": [
    {
     "data": {
      "text/html": [
       "<div>\n",
       "<style scoped>\n",
       "    .dataframe tbody tr th:only-of-type {\n",
       "        vertical-align: middle;\n",
       "    }\n",
       "\n",
       "    .dataframe tbody tr th {\n",
       "        vertical-align: top;\n",
       "    }\n",
       "\n",
       "    .dataframe thead th {\n",
       "        text-align: right;\n",
       "    }\n",
       "</style>\n",
       "<table border=\"1\" class=\"dataframe\">\n",
       "  <thead>\n",
       "    <tr style=\"text-align: right;\">\n",
       "      <th></th>\n",
       "      <th>PassengerId</th>\n",
       "      <th>Pclass</th>\n",
       "      <th>Name</th>\n",
       "      <th>Sex</th>\n",
       "      <th>Age</th>\n",
       "      <th>SibSp</th>\n",
       "      <th>Parch</th>\n",
       "      <th>Ticket</th>\n",
       "      <th>Fare</th>\n",
       "      <th>Cabin</th>\n",
       "      <th>Embarked</th>\n",
       "    </tr>\n",
       "  </thead>\n",
       "  <tbody>\n",
       "    <tr>\n",
       "      <th>152</th>\n",
       "      <td>1044</td>\n",
       "      <td>3</td>\n",
       "      <td>Storey, Mr. Thomas</td>\n",
       "      <td>male</td>\n",
       "      <td>60.5</td>\n",
       "      <td>0</td>\n",
       "      <td>0</td>\n",
       "      <td>3701</td>\n",
       "      <td>NaN</td>\n",
       "      <td>NaN</td>\n",
       "      <td>S</td>\n",
       "    </tr>\n",
       "  </tbody>\n",
       "</table>\n",
       "</div>"
      ],
      "text/plain": [
       "     PassengerId  Pclass                Name   Sex   Age  SibSp  Parch Ticket  \\\n",
       "152         1044       3  Storey, Mr. Thomas  male  60.5      0      0   3701   \n",
       "\n",
       "     Fare Cabin Embarked  \n",
       "152   NaN   NaN        S  "
      ]
     },
     "execution_count": 13,
     "metadata": {},
     "output_type": "execute_result"
    }
   ],
   "source": [
    "# Fare value column\n",
    "test_data[test_data[\"Fare\"].isnull()]"
   ]
  },
  {
   "cell_type": "markdown",
   "id": "09f0a658",
   "metadata": {
    "papermill": {
     "duration": 0.024005,
     "end_time": "2022-07-02T09:07:36.643011",
     "exception": false,
     "start_time": "2022-07-02T09:07:36.619006",
     "status": "completed"
    },
    "tags": []
   },
   "source": [
    "<!DOCTYPE html>\n",
    "<html>\n",
    "<head>\n",
    "<title>\n",
    "</title>\n",
    "<meta name=\"viewport\" content=\"width=device-width, initial-scale=1\">\n",
    "</head>\n",
    "<body>\n",
    "<h1 style=\"color:Red;\">\n",
    "Fare column :\n",
    "</h1>\n",
    "<h2 style=\"color:DodgerBlue;\">\n",
    "In Fare colum only one value missing let us check which row has missing value. We assume that fare is related to family size and Pclass. as missing value sex is male , Pclass is 3 and no family(Parch and SibSp). so we can group by above feature like sex=Male; Parch = 0; SibSp= 0; Pclass = 3 and impute median value .\n",
    "</h2>\n",
    "</body>\n",
    "</html>"
   ]
  },
  {
   "cell_type": "code",
   "execution_count": 14,
   "id": "b5e4dcf7",
   "metadata": {
    "execution": {
     "iopub.execute_input": "2022-07-02T09:07:36.694989Z",
     "iopub.status.busy": "2022-07-02T09:07:36.694481Z",
     "iopub.status.idle": "2022-07-02T09:07:36.703028Z",
     "shell.execute_reply": "2022-07-02T09:07:36.702057Z"
    },
    "papermill": {
     "duration": 0.036506,
     "end_time": "2022-07-02T09:07:36.705337",
     "exception": false,
     "start_time": "2022-07-02T09:07:36.668831",
     "status": "completed"
    },
    "tags": []
   },
   "outputs": [],
   "source": [
    "median_fare = test_data.groupby([\"Pclass\",\"Parch\",\"SibSp\"]).Fare.median()[3][0][0]\n",
    "test_data[\"Fare\"] = test_data[\"Fare\"] .fillna(median_fare)"
   ]
  },
  {
   "cell_type": "markdown",
   "id": "a7539eff",
   "metadata": {
    "papermill": {
     "duration": 0.024304,
     "end_time": "2022-07-02T09:07:36.753655",
     "exception": false,
     "start_time": "2022-07-02T09:07:36.729351",
     "status": "completed"
    },
    "tags": []
   },
   "source": [
    "<!DOCTYPE html>\n",
    "<html>\n",
    "<head>\n",
    "<title>\n",
    "</title>\n",
    "<meta name=\"viewport\" content=\"width=device-width, initial-scale=1\">\n",
    "</head>\n",
    "<body>\n",
    "<h1 style=\"color:Red;\">\n",
    "Cabin column :\n",
    "</h1>\n",
    "<h2 style=\"color:DodgerBlue\">\n",
    "Cabin Feature is Categorical value. There is lots of missing value in dataset. but as there are some cabin which have high survival rate and some has not.Let us explore more for Cabin Feature what can we do on this. Look at this blueprint of titanic.\n",
    "</h2>\n",
    "<a href=\"https://ibb.co/mvqwTpkk\"><img src=\"https://i.ibb.co/TK8S2y6/Titanic-side-plan.webp\" alt=\"Titanic-side-plan\" border=\"1\" width=\"1500\" height=\"600\"></a>\n",
    "<ul style=\"color:DodgerBlue\">\n",
    "<li>On the Boat Deck there were 6 rooms labeled as T, U, W, X, Y, Z but only the T cabin is present in the dataset</li>\n",
    "<li>A, B and C decks were only for 1st class passengers</li>\n",
    "<li>D and E decks were for all classes</li>\n",
    "<li>F and G decks were for both 2nd and 3rd class passengers</li>\n",
    "<li>From going A to G, distance to the staircase increases which might be a factor of survival</li>\n",
    "</ul>  \n",
    "</body>\n",
    "</html> "
   ]
  },
  {
   "cell_type": "code",
   "execution_count": 15,
   "id": "f764b492",
   "metadata": {
    "execution": {
     "iopub.execute_input": "2022-07-02T09:07:36.804181Z",
     "iopub.status.busy": "2022-07-02T09:07:36.803551Z",
     "iopub.status.idle": "2022-07-02T09:07:36.816870Z",
     "shell.execute_reply": "2022-07-02T09:07:36.815931Z"
    },
    "papermill": {
     "duration": 0.041603,
     "end_time": "2022-07-02T09:07:36.819407",
     "exception": false,
     "start_time": "2022-07-02T09:07:36.777804",
     "status": "completed"
    },
    "tags": []
   },
   "outputs": [],
   "source": [
    "# let us create new coulmn : first letter of the cabin column as deck ... for missing value as M deck (train_data)\n",
    "train_data[\"Deck\"] =  train_data['Cabin'].apply(lambda s: s[0] if pd.notnull(s) else 'M')\n",
    "train_data_decks =  train_data.groupby(['Deck', 'Pclass']).count().drop(columns=['Survived', 'Sex', 'Age', 'SibSp', 'Parch', \n",
    "                                                                        'Fare', 'Embarked', 'Cabin', 'PassengerId', 'Ticket']).rename(columns={'Name': 'Count'}).transpose()"
   ]
  },
  {
   "cell_type": "code",
   "execution_count": 16,
   "id": "a2deddd3",
   "metadata": {
    "execution": {
     "iopub.execute_input": "2022-07-02T09:07:36.869221Z",
     "iopub.status.busy": "2022-07-02T09:07:36.868815Z",
     "iopub.status.idle": "2022-07-02T09:07:36.884639Z",
     "shell.execute_reply": "2022-07-02T09:07:36.883493Z"
    },
    "papermill": {
     "duration": 0.043581,
     "end_time": "2022-07-02T09:07:36.886979",
     "exception": false,
     "start_time": "2022-07-02T09:07:36.843398",
     "status": "completed"
    },
    "tags": []
   },
   "outputs": [],
   "source": [
    "# let us create new coulmn : first letter of the cabin column as deck ... for missing value as M deck (test data)\n",
    "test_data[\"Deck\"] =  test_data['Cabin'].apply(lambda s: s[0] if pd.notnull(s) else 'M')\n",
    "test_data_decks =  test_data.groupby(['Deck', 'Pclass']).count().drop(columns=['Sex', 'Age', 'SibSp', 'Parch', \n",
    "                                                                        'Fare', 'Embarked', 'Cabin', 'PassengerId', 'Ticket']).rename(columns={'Name': 'Count'}).transpose()"
   ]
  },
  {
   "cell_type": "code",
   "execution_count": 17,
   "id": "f2185e1b",
   "metadata": {
    "execution": {
     "iopub.execute_input": "2022-07-02T09:07:36.936806Z",
     "iopub.status.busy": "2022-07-02T09:07:36.936049Z",
     "iopub.status.idle": "2022-07-02T09:07:36.945617Z",
     "shell.execute_reply": "2022-07-02T09:07:36.944647Z"
    },
    "papermill": {
     "duration": 0.037257,
     "end_time": "2022-07-02T09:07:36.947985",
     "exception": false,
     "start_time": "2022-07-02T09:07:36.910728",
     "status": "completed"
    },
    "tags": []
   },
   "outputs": [],
   "source": [
    "def get_pclass_count_per(df):\n",
    "    \n",
    "    # Creating a dictionary for every passenger class count in every deck\n",
    "    deck_counts = {'A': {}, 'B': {}, 'C': {}, 'D': {}, 'E': {}, 'F': {}, 'G': {}, 'M': {}, 'T': {}}\n",
    "    decks = df.columns.levels[0]\n",
    "    \n",
    "    for deck in decks:\n",
    "        for pclass in range(1,4):\n",
    "            try:\n",
    "                count = df[deck][pclass][0]\n",
    "                deck_counts[deck][pclass] = count \n",
    "            except KeyError:\n",
    "                deck_counts[deck][pclass] = 0\n",
    "    \n",
    "    df_decks = pd.DataFrame(deck_counts)    \n",
    "    deck_percentages = {}\n",
    "\n",
    "    # Creating a dictionary for every passenger class percentage in every deck\n",
    "    for col in df_decks.columns:\n",
    "        deck_percentages[col] = [(count / df_decks[col].sum()) * 100 for count in df_decks[col]]\n",
    "        \n",
    "    return deck_counts, deck_percentages"
   ]
  },
  {
   "cell_type": "code",
   "execution_count": 18,
   "id": "18faa87b",
   "metadata": {
    "execution": {
     "iopub.execute_input": "2022-07-02T09:07:36.997991Z",
     "iopub.status.busy": "2022-07-02T09:07:36.997269Z",
     "iopub.status.idle": "2022-07-02T09:07:37.008508Z",
     "shell.execute_reply": "2022-07-02T09:07:37.007551Z"
    },
    "papermill": {
     "duration": 0.038854,
     "end_time": "2022-07-02T09:07:37.010921",
     "exception": false,
     "start_time": "2022-07-02T09:07:36.972067",
     "status": "completed"
    },
    "tags": []
   },
   "outputs": [],
   "source": [
    "def display_pclass_dist(percentages):\n",
    "    \n",
    "    df_percentages = pd.DataFrame(percentages).transpose()\n",
    "    deck_names = ('A', 'B', 'C', 'D', 'E', 'F', 'G', 'M', 'T')\n",
    "    bar_count = np.arange(len(deck_names))  \n",
    "    bar_width = 0.85\n",
    "    \n",
    "    pclass1 = df_percentages[0]\n",
    "    pclass2 = df_percentages[1]\n",
    "    pclass3 = df_percentages[2]\n",
    "    \n",
    "    plt.figure(figsize=(20, 10))\n",
    "    plt.bar(bar_count, pclass1, color='#b5ffb9', edgecolor='white', width=bar_width, label='Passenger Class 1')\n",
    "    plt.bar(bar_count, pclass2, bottom=pclass1, color='#f9bc86', edgecolor='white', width=bar_width, label='Passenger Class 2')\n",
    "    plt.bar(bar_count, pclass3, bottom=pclass1 + pclass2, color='#a3acff', edgecolor='white', width=bar_width, label='Passenger Class 3')\n",
    "\n",
    "    plt.xlabel('Deck', size=15, labelpad=20)\n",
    "    plt.ylabel('Passenger Class Percentage', size=15, labelpad=20)\n",
    "    plt.xticks(bar_count, deck_names)    \n",
    "    plt.tick_params(axis='x', labelsize=15)\n",
    "    plt.tick_params(axis='y', labelsize=15)\n",
    "    \n",
    "    plt.legend(loc='upper left', bbox_to_anchor=(1, 1), prop={'size': 15})\n",
    "    plt.title('Passenger Class Distribution in Decks', size=18, y=1.05)   \n",
    "    \n",
    "    plt.show()"
   ]
  },
  {
   "cell_type": "code",
   "execution_count": 19,
   "id": "a5e0cdef",
   "metadata": {
    "execution": {
     "iopub.execute_input": "2022-07-02T09:07:37.062375Z",
     "iopub.status.busy": "2022-07-02T09:07:37.061634Z",
     "iopub.status.idle": "2022-07-02T09:07:37.365477Z",
     "shell.execute_reply": "2022-07-02T09:07:37.364256Z"
    },
    "papermill": {
     "duration": 0.332133,
     "end_time": "2022-07-02T09:07:37.368047",
     "exception": false,
     "start_time": "2022-07-02T09:07:37.035914",
     "status": "completed"
    },
    "tags": []
   },
   "outputs": [
    {
     "data": {
      "image/png": "[encoded data removed]",
      "text/plain": [
       "<Figure size 1440x720 with 1 Axes>"
      ]
     },
     "metadata": {
      "needs_background": "light"
     },
     "output_type": "display_data"
    }
   ],
   "source": [
    "# let do first for train data\n",
    "train_deck_count, train_deck_per = get_pclass_count_per(train_data_decks)\n",
    "display_pclass_dist(train_deck_per)"
   ]
  },
  {
   "cell_type": "code",
   "execution_count": 20,
   "id": "234e5b3c",
   "metadata": {
    "execution": {
     "iopub.execute_input": "2022-07-02T09:07:37.419332Z",
     "iopub.status.busy": "2022-07-02T09:07:37.418928Z",
     "iopub.status.idle": "2022-07-02T09:07:37.682759Z",
     "shell.execute_reply": "2022-07-02T09:07:37.681581Z"
    },
    "papermill": {
     "duration": 0.292376,
     "end_time": "2022-07-02T09:07:37.685297",
     "exception": false,
     "start_time": "2022-07-02T09:07:37.392921",
     "status": "completed"
    },
    "tags": []
   },
   "outputs": [
    {
     "data": {
      "image/png": "[encoded data removed]",
      "text/plain": [
       "<Figure size 1440x720 with 1 Axes>"
      ]
     },
     "metadata": {
      "needs_background": "light"
     },
     "output_type": "display_data"
    }
   ],
   "source": [
    "# let do first for test data\n",
    "test_deck_count, test_deck_per = get_pclass_count_per(test_data_decks)\n",
    "display_pclass_dist(test_deck_per)"
   ]
  },
  {
   "cell_type": "markdown",
   "id": "4f224d64",
   "metadata": {
    "papermill": {
     "duration": 0.025313,
     "end_time": "2022-07-02T09:07:37.735715",
     "exception": false,
     "start_time": "2022-07-02T09:07:37.710402",
     "status": "completed"
    },
    "tags": []
   },
   "source": [
    "<!DOCTYPE html>\n",
    "<html>\n",
    "<head>\n",
    "<title>\n",
    "</title>\n",
    "<meta name=\"viewport\" content=\"width=device-width, initial-scale=1\">\n",
    "</head>\n",
    "<body>\n",
    "<h1 style=\"color:Red;\">\n",
    "Intutation from Above graphs (train and test data):\n",
    "</h1>\n",
    "<ul style=\"color:DodgerBlue; list-style-type: square; padding: 10px; font-size:16px;\"><ul style=\"color:DodgerBlue; font-size:16px;\">\n",
    "<li>100% Passanger from A,B,C decks are 1st class passanger</li>\n",
    "<li>For D deck 87% passanger around are 1st class passanger. others are 2nd class passanger</li>\n",
    "<li>For E in test data it belong to 1st class passanger. For G in test data it belong to 3rd class Passanger 100%</li>\n",
    "<li>For E Deck in train data nearly 80% belong to 1st class passanger.around 10% each belong to 2nd and 3rd class passanger </li>\n",
    "<li>There is one person on the boat deck in T cabin and he is a 1st class passenger. T cabin passenger has the closest resemblance to A deck passengers so he is grouped with A deck</li>\n",
    "<li>Passengers labeled as M are the missing values in Cabin feature. I don't think it is possible to find those passengers' real Deck so I decided to use M like a deck</li>\n",
    "<li> 100% of G deck are 3rd class passanger</li>\n",
    "</ul>  \n",
    "</body>\n",
    "</html> "
   ]
  },
  {
   "cell_type": "code",
   "execution_count": 21,
   "id": "c63ced78",
   "metadata": {
    "execution": {
     "iopub.execute_input": "2022-07-02T09:07:37.788621Z",
     "iopub.status.busy": "2022-07-02T09:07:37.788194Z",
     "iopub.status.idle": "2022-07-02T09:07:37.796626Z",
     "shell.execute_reply": "2022-07-02T09:07:37.794991Z"
    },
    "papermill": {
     "duration": 0.03757,
     "end_time": "2022-07-02T09:07:37.799141",
     "exception": false,
     "start_time": "2022-07-02T09:07:37.761571",
     "status": "completed"
    },
    "tags": []
   },
   "outputs": [],
   "source": [
    "# let us change passanger in T deck is changed to A (train Data)\n",
    "idx = train_data[train_data['Deck'] == 'T'].index\n",
    "train_data.loc[idx, 'Deck'] = 'A'"
   ]
  },
  {
   "cell_type": "code",
   "execution_count": 22,
   "id": "2a7d26ec",
   "metadata": {
    "execution": {
     "iopub.execute_input": "2022-07-02T09:07:37.853262Z",
     "iopub.status.busy": "2022-07-02T09:07:37.852631Z",
     "iopub.status.idle": "2022-07-02T09:07:37.860426Z",
     "shell.execute_reply": "2022-07-02T09:07:37.859396Z"
    },
    "papermill": {
     "duration": 0.037832,
     "end_time": "2022-07-02T09:07:37.862847",
     "exception": false,
     "start_time": "2022-07-02T09:07:37.825015",
     "status": "completed"
    },
    "tags": []
   },
   "outputs": [],
   "source": [
    "# let us change passanger in T deck is changed to A (test Data)\n",
    "idx = test_data[test_data['Deck'] == 'T'].index\n",
    "test_data.loc[idx, 'Deck'] = 'A'"
   ]
  },
  {
   "cell_type": "code",
   "execution_count": 23,
   "id": "576270a4",
   "metadata": {
    "execution": {
     "iopub.execute_input": "2022-07-02T09:07:37.916344Z",
     "iopub.status.busy": "2022-07-02T09:07:37.915918Z",
     "iopub.status.idle": "2022-07-02T09:07:37.933440Z",
     "shell.execute_reply": "2022-07-02T09:07:37.932292Z"
    },
    "papermill": {
     "duration": 0.047609,
     "end_time": "2022-07-02T09:07:37.936228",
     "exception": false,
     "start_time": "2022-07-02T09:07:37.888619",
     "status": "completed"
    },
    "tags": []
   },
   "outputs": [],
   "source": [
    "train_data_decks_survived = train_data.groupby(['Deck', 'Survived']).count().drop(columns=['Sex', 'Age', 'SibSp', 'Parch', 'Fare', \n",
    "                                                                                   'Embarked', 'Pclass', 'Cabin', 'PassengerId', 'Ticket']).rename(columns={'Name':'Count'}).transpose()\n",
    "\n",
    "test_data_decks_survived = test_data.groupby(['Deck']).count().drop(columns=['Sex', 'Age', 'SibSp', 'Parch', 'Fare', \n",
    "                                                                                   'Embarked', 'Pclass', 'Cabin', 'PassengerId', 'Ticket']).rename(columns={'Name':'Count'}).transpose()"
   ]
  },
  {
   "cell_type": "code",
   "execution_count": 24,
   "id": "5aa6ef9c",
   "metadata": {
    "execution": {
     "iopub.execute_input": "2022-07-02T09:07:37.990047Z",
     "iopub.status.busy": "2022-07-02T09:07:37.989411Z",
     "iopub.status.idle": "2022-07-02T09:07:38.004545Z",
     "shell.execute_reply": "2022-07-02T09:07:38.003380Z"
    },
    "papermill": {
     "duration": 0.045183,
     "end_time": "2022-07-02T09:07:38.007025",
     "exception": false,
     "start_time": "2022-07-02T09:07:37.961842",
     "status": "completed"
    },
    "tags": []
   },
   "outputs": [],
   "source": [
    "def get_survived_dist(df):\n",
    "    \n",
    "    # Creating a dictionary for every survival count in every deck\n",
    "    surv_counts = {'A':{}, 'B':{}, 'C':{}, 'D':{}, 'E':{}, 'F':{}, 'G':{}, 'M':{}}\n",
    "    decks = df.columns.levels[0]    \n",
    "\n",
    "    for deck in decks:\n",
    "        for survive in range(0, 2):\n",
    "            surv_counts[deck][survive] = df[deck][survive][0]\n",
    "            \n",
    "    df_surv = pd.DataFrame(surv_counts)\n",
    "    surv_percentages = {}\n",
    "\n",
    "    for col in df_surv.columns:\n",
    "        surv_percentages[col] = [(count / df_surv[col].sum()) * 100 for count in df_surv[col]]\n",
    "        \n",
    "    return surv_counts, surv_percentages\n",
    "\n",
    "def display_surv_dist(percentages):\n",
    "    \n",
    "    df_survived_percentages = pd.DataFrame(percentages).transpose()\n",
    "    deck_names = ('A', 'B', 'C', 'D', 'E', 'F', 'G', 'M')\n",
    "    bar_count = np.arange(len(deck_names))  \n",
    "    bar_width = 0.85    \n",
    "\n",
    "    not_survived = df_survived_percentages[0]\n",
    "    survived = df_survived_percentages[1]\n",
    "    \n",
    "    plt.figure(figsize=(20, 10))\n",
    "    plt.bar(bar_count, not_survived, color='#b5ffb9', edgecolor='white', width=bar_width, label=\"Not Survived\")\n",
    "    plt.bar(bar_count, survived, bottom=not_survived, color='#f9bc86', edgecolor='white', width=bar_width, label=\"Survived\")\n",
    " \n",
    "    plt.xlabel('Deck', size=15, labelpad=20)\n",
    "    plt.ylabel('Survival Percentage', size=15, labelpad=20)\n",
    "    plt.xticks(bar_count, deck_names)    \n",
    "    plt.tick_params(axis='x', labelsize=15)\n",
    "    plt.tick_params(axis='y', labelsize=15)\n",
    "    \n",
    "    plt.legend(loc='upper left', bbox_to_anchor=(1, 1), prop={'size': 15})\n",
    "    plt.title('Survival Percentage in Decks', size=18, y=1.05)\n",
    "    \n",
    "    plt.show()"
   ]
  },
  {
   "cell_type": "code",
   "execution_count": 25,
   "id": "d84e6e09",
   "metadata": {
    "execution": {
     "iopub.execute_input": "2022-07-02T09:07:38.059891Z",
     "iopub.status.busy": "2022-07-02T09:07:38.059273Z",
     "iopub.status.idle": "2022-07-02T09:07:38.276220Z",
     "shell.execute_reply": "2022-07-02T09:07:38.275359Z"
    },
    "papermill": {
     "duration": 0.245832,
     "end_time": "2022-07-02T09:07:38.278471",
     "exception": false,
     "start_time": "2022-07-02T09:07:38.032639",
     "status": "completed"
    },
    "tags": []
   },
   "outputs": [
    {
     "data": {
      "image/png": "[encoded data removed]",
      "text/plain": [
       "<Figure size 1440x720 with 1 Axes>"
      ]
     },
     "metadata": {
      "needs_background": "light"
     },
     "output_type": "display_data"
    }
   ],
   "source": [
    "train_surv_count, train_surv_per = get_survived_dist(train_data_decks_survived)\n",
    "display_surv_dist(train_surv_per)"
   ]
  },
  {
   "cell_type": "code",
   "execution_count": 26,
   "id": "de0077be",
   "metadata": {
    "execution": {
     "iopub.execute_input": "2022-07-02T09:07:38.331948Z",
     "iopub.status.busy": "2022-07-02T09:07:38.331350Z",
     "iopub.status.idle": "2022-07-02T09:07:38.338498Z",
     "shell.execute_reply": "2022-07-02T09:07:38.337650Z"
    },
    "papermill": {
     "duration": 0.036661,
     "end_time": "2022-07-02T09:07:38.340756",
     "exception": false,
     "start_time": "2022-07-02T09:07:38.304095",
     "status": "completed"
    },
    "tags": []
   },
   "outputs": [],
   "source": [
    "# since ABC Deck is all First class Citizen let change deck as ABC\n",
    "train_data['Deck'] = train_data['Deck'].replace(['A', 'B', 'C'], 'ABC')\n",
    "test_data['Deck'] = test_data['Deck'].replace(['A', 'B', 'C'], 'ABC')"
   ]
  },
  {
   "cell_type": "code",
   "execution_count": 27,
   "id": "27ff7553",
   "metadata": {
    "execution": {
     "iopub.execute_input": "2022-07-02T09:07:38.394050Z",
     "iopub.status.busy": "2022-07-02T09:07:38.393371Z",
     "iopub.status.idle": "2022-07-02T09:07:38.401121Z",
     "shell.execute_reply": "2022-07-02T09:07:38.400089Z"
    },
    "papermill": {
     "duration": 0.037376,
     "end_time": "2022-07-02T09:07:38.403660",
     "exception": false,
     "start_time": "2022-07-02T09:07:38.366284",
     "status": "completed"
    },
    "tags": []
   },
   "outputs": [],
   "source": [
    "# D and E decks are labeled as DE because both of them have similar passenger class distribution and same survival rate\n",
    "train_data['Deck'] = train_data['Deck'].replace(['D', 'E'], 'DE')\n",
    "test_data['Deck'] = test_data['Deck'].replace(['D', 'E'], 'DE')"
   ]
  },
  {
   "cell_type": "code",
   "execution_count": 28,
   "id": "67bff6aa",
   "metadata": {
    "execution": {
     "iopub.execute_input": "2022-07-02T09:07:38.457489Z",
     "iopub.status.busy": "2022-07-02T09:07:38.457058Z",
     "iopub.status.idle": "2022-07-02T09:07:38.464137Z",
     "shell.execute_reply": "2022-07-02T09:07:38.463311Z"
    },
    "papermill": {
     "duration": 0.036384,
     "end_time": "2022-07-02T09:07:38.466233",
     "exception": false,
     "start_time": "2022-07-02T09:07:38.429849",
     "status": "completed"
    },
    "tags": []
   },
   "outputs": [],
   "source": [
    "# F and G decks are labeled as DE because both of them have similar passenger class distribution and same survival rate\n",
    "train_data['Deck'] = train_data['Deck'].replace(['F', 'G'], 'FG')\n",
    "test_data['Deck'] = test_data['Deck'].replace(['F', 'G'], 'FG')"
   ]
  },
  {
   "cell_type": "code",
   "execution_count": 29,
   "id": "deba2d95",
   "metadata": {
    "execution": {
     "iopub.execute_input": "2022-07-02T09:07:38.519996Z",
     "iopub.status.busy": "2022-07-02T09:07:38.518851Z",
     "iopub.status.idle": "2022-07-02T09:07:38.528514Z",
     "shell.execute_reply": "2022-07-02T09:07:38.527385Z"
    },
    "papermill": {
     "duration": 0.038958,
     "end_time": "2022-07-02T09:07:38.530808",
     "exception": false,
     "start_time": "2022-07-02T09:07:38.491850",
     "status": "completed"
    },
    "tags": []
   },
   "outputs": [
    {
     "data": {
      "text/plain": [
       "M      687\n",
       "ABC    122\n",
       "DE      65\n",
       "FG      17\n",
       "Name: Deck, dtype: int64"
      ]
     },
     "execution_count": 29,
     "metadata": {},
     "output_type": "execute_result"
    }
   ],
   "source": [
    "# let check value counts for deck column in train data\n",
    "train_data[\"Deck\"].value_counts()"
   ]
  },
  {
   "cell_type": "code",
   "execution_count": 30,
   "id": "2f5c40c7",
   "metadata": {
    "execution": {
     "iopub.execute_input": "2022-07-02T09:07:38.584194Z",
     "iopub.status.busy": "2022-07-02T09:07:38.583496Z",
     "iopub.status.idle": "2022-07-02T09:07:38.592522Z",
     "shell.execute_reply": "2022-07-02T09:07:38.591411Z"
    },
    "papermill": {
     "duration": 0.038428,
     "end_time": "2022-07-02T09:07:38.594912",
     "exception": false,
     "start_time": "2022-07-02T09:07:38.556484",
     "status": "completed"
    },
    "tags": []
   },
   "outputs": [
    {
     "data": {
      "text/plain": [
       "M      327\n",
       "ABC     60\n",
       "DE      22\n",
       "FG       9\n",
       "Name: Deck, dtype: int64"
      ]
     },
     "execution_count": 30,
     "metadata": {},
     "output_type": "execute_result"
    }
   ],
   "source": [
    "# let check value counts for deck column in test data\n",
    "test_data[\"Deck\"].value_counts()"
   ]
  },
  {
   "cell_type": "code",
   "execution_count": 31,
   "id": "822b508a",
   "metadata": {
    "execution": {
     "iopub.execute_input": "2022-07-02T09:07:38.648365Z",
     "iopub.status.busy": "2022-07-02T09:07:38.647815Z",
     "iopub.status.idle": "2022-07-02T09:07:38.655433Z",
     "shell.execute_reply": "2022-07-02T09:07:38.654524Z"
    },
    "papermill": {
     "duration": 0.036904,
     "end_time": "2022-07-02T09:07:38.657495",
     "exception": false,
     "start_time": "2022-07-02T09:07:38.620591",
     "status": "completed"
    },
    "tags": []
   },
   "outputs": [],
   "source": [
    "# we extract Deck feature from Cabin feature so we will drop cabin column\n",
    "train_data.drop(['Cabin'], inplace=True, axis=1)\n",
    "test_data.drop(['Cabin'], inplace=True, axis=1)"
   ]
  },
  {
   "cell_type": "code",
   "execution_count": 32,
   "id": "ad473088",
   "metadata": {
    "execution": {
     "iopub.execute_input": "2022-07-02T09:07:38.711794Z",
     "iopub.status.busy": "2022-07-02T09:07:38.711215Z",
     "iopub.status.idle": "2022-07-02T09:07:38.719390Z",
     "shell.execute_reply": "2022-07-02T09:07:38.718585Z"
    },
    "papermill": {
     "duration": 0.037539,
     "end_time": "2022-07-02T09:07:38.721422",
     "exception": false,
     "start_time": "2022-07-02T09:07:38.683883",
     "status": "completed"
    },
    "tags": []
   },
   "outputs": [
    {
     "data": {
      "text/plain": [
       "PassengerId    0\n",
       "Survived       0\n",
       "Pclass         0\n",
       "Name           0\n",
       "Sex            0\n",
       "Age            0\n",
       "SibSp          0\n",
       "Parch          0\n",
       "Ticket         0\n",
       "Fare           0\n",
       "Embarked       0\n",
       "Deck           0\n",
       "dtype: int64"
      ]
     },
     "execution_count": 32,
     "metadata": {},
     "output_type": "execute_result"
    }
   ],
   "source": [
    "# let check null value in train data\n",
    "train_data.isnull().sum()"
   ]
  },
  {
   "cell_type": "code",
   "execution_count": 33,
   "id": "5db92a00",
   "metadata": {
    "execution": {
     "iopub.execute_input": "2022-07-02T09:07:38.775372Z",
     "iopub.status.busy": "2022-07-02T09:07:38.774915Z",
     "iopub.status.idle": "2022-07-02T09:07:38.783882Z",
     "shell.execute_reply": "2022-07-02T09:07:38.783036Z"
    },
    "papermill": {
     "duration": 0.038388,
     "end_time": "2022-07-02T09:07:38.785825",
     "exception": false,
     "start_time": "2022-07-02T09:07:38.747437",
     "status": "completed"
    },
    "tags": []
   },
   "outputs": [
    {
     "data": {
      "text/plain": [
       "PassengerId    0\n",
       "Pclass         0\n",
       "Name           0\n",
       "Sex            0\n",
       "Age            0\n",
       "SibSp          0\n",
       "Parch          0\n",
       "Ticket         0\n",
       "Fare           0\n",
       "Embarked       0\n",
       "Deck           0\n",
       "dtype: int64"
      ]
     },
     "execution_count": 33,
     "metadata": {},
     "output_type": "execute_result"
    }
   ],
   "source": [
    "# let check null value in test data\n",
    "test_data.isnull().sum()"
   ]
  },
  {
   "cell_type": "markdown",
   "id": "27bc0124",
   "metadata": {
    "papermill": {
     "duration": 0.026339,
     "end_time": "2022-07-02T09:07:38.838573",
     "exception": false,
     "start_time": "2022-07-02T09:07:38.812234",
     "status": "completed"
    },
    "tags": []
   },
   "source": [
    "<!DOCTYPE html>\n",
    "<html>\n",
    "<head>\n",
    "<title>\n",
    "</title>\n",
    "<meta name=\"viewport\" content=\"width=device-width, initial-scale=1\">\n",
    "</head>\n",
    "<body>\n",
    "<h1 style=\"color:DodgerBlue;\">\n",
    "3 Feature Engineering</h1>\n",
    "<ul style=\"color:DodgerBlue; list-style-type: square; padding: 10px; font-size:16px;\">\n",
    "    <li>Family size : We will count total no of family member avilable in Family </li>\n",
    "    <li>IsAlone : this will indicate he/she was travelling along or not </li>\n",
    "    <li>FareBin : Bins range for Fare</li>\n",
    "    <li>AgeBin : Bins range for Age variable</li>\n",
    "    <li> Title : Title from name</li>\n",
    "    <li>Ticket_Frequency: occurence of Ticket values</li>\n",
    "    <li>Is_Married : this will categorical feature which indicate it is married or not</li>\n",
    "    <li>Family : this feature is created with the extracted surname.</li>\n",
    "</ul>\n",
    "</body>\n",
    "</html>"
   ]
  },
  {
   "cell_type": "code",
   "execution_count": 34,
   "id": "b9fd5dbb",
   "metadata": {
    "execution": {
     "iopub.execute_input": "2022-07-02T09:07:38.893971Z",
     "iopub.status.busy": "2022-07-02T09:07:38.893383Z",
     "iopub.status.idle": "2022-07-02T09:07:38.961609Z",
     "shell.execute_reply": "2022-07-02T09:07:38.960312Z"
    },
    "papermill": {
     "duration": 0.100533,
     "end_time": "2022-07-02T09:07:38.965911",
     "exception": false,
     "start_time": "2022-07-02T09:07:38.865378",
     "status": "completed"
    },
    "tags": []
   },
   "outputs": [
    {
     "name": "stderr",
     "output_type": "stream",
     "text": [
      "/opt/conda/lib/python3.7/site-packages/pandas/core/indexing.py:1732: SettingWithCopyWarning: \n",
      "A value is trying to be set on a copy of a slice from a DataFrame\n",
      "\n",
      "See the caveats in the documentation: https://pandas.pydata.org/pandas-docs/stable/user_guide/indexing.html#returning-a-view-versus-a-copy\n",
      "  self._setitem_single_block(indexer, value, name)\n"
     ]
    }
   ],
   "source": [
    "## feature engineering for creaing new features for train and test data\n",
    "\n",
    "data_cleaner = [train_data, test_data]\n",
    "for dataset in data_cleaner:\n",
    "    \n",
    "    # discreate variable Family Size\n",
    "    dataset[\"FamilySize\"] = dataset['SibSp'] + dataset['Parch'] + 1\n",
    "    \n",
    "    #for ISAlone feature \n",
    "    dataset[\"IsAlone\"] = 1 #initialize to yes/1 is alone\n",
    "    dataset['IsAlone'].loc[dataset['FamilySize'] > 1] = 0 # now update to no/0 if family size is greater than 1\n",
    "    \n",
    "    #Fare Bins : using qcut\n",
    "    dataset['FareBin'] = pd.qcut(dataset['Fare'], 4) # creating 4 bins\n",
    "    \n",
    "    #Age Bins : using qcut\n",
    "    dataset[\"AgeBin\"] = pd.qcut(dataset['Age'].astype(int), 5) # creating 5 bins\n",
    "    \n",
    "    # Title : we will use split method\n",
    "    dataset[\"Title\"] = dataset[\"Name\"].str.split(\", \", expand=True)[1].str.split(\".\", expand=True)[0]\n",
    "    \n",
    "    #cleanup rare title names\n",
    "    stat_min = 10\n",
    "    \n",
    "    title_names = (dataset['Title'].value_counts() < stat_min)\n",
    "    \n",
    "    #apply and lambda functions are quick and dirty code to find and replace with fewer lines of code: https://community.modeanalytics.com/python/tutorial/pandas-groupby-and-python-lambda-functions/\n",
    "    dataset['Title'] = dataset['Title'].apply(lambda x: 'Misc' if title_names.loc[x] == True else x)"
   ]
  },
  {
   "cell_type": "code",
   "execution_count": 35,
   "id": "d4cc7ee8",
   "metadata": {
    "execution": {
     "iopub.execute_input": "2022-07-02T09:07:39.021224Z",
     "iopub.status.busy": "2022-07-02T09:07:39.020815Z",
     "iopub.status.idle": "2022-07-02T09:07:39.227022Z",
     "shell.execute_reply": "2022-07-02T09:07:39.225830Z"
    },
    "papermill": {
     "duration": 0.236649,
     "end_time": "2022-07-02T09:07:39.229517",
     "exception": false,
     "start_time": "2022-07-02T09:07:38.992868",
     "status": "completed"
    },
    "tags": []
   },
   "outputs": [
    {
     "data": {
      "image/png": "[encoded data removed]",
      "text/plain": [
       "<Figure size 1584x648 with 1 Axes>"
      ]
     },
     "metadata": {
      "needs_background": "light"
     },
     "output_type": "display_data"
    }
   ],
   "source": [
    "# train data Survival vs Fare bins\n",
    "fig,axis = plt.subplots(figsize = (22,9))\n",
    "sns.countplot(x='FareBin', hue='Survived', data=train_data)\n",
    "\n",
    "plt.xlabel('Fare', size=15, labelpad=20)\n",
    "plt.ylabel('Passenger Count', size=15, labelpad=20)\n",
    "plt.tick_params(axis='x', labelsize=10)\n",
    "plt.tick_params(axis='y', labelsize=15)\n",
    "\n",
    "plt.legend(['Not Survived', 'Survived'], loc='upper right', prop={'size': 15})\n",
    "plt.title('Count of Survival in {} Feature'.format('Fare'), size=15, y=1.05)\n",
    "\n",
    "plt.show()\n"
   ]
  },
  {
   "cell_type": "code",
   "execution_count": 36,
   "id": "853ce455",
   "metadata": {
    "execution": {
     "iopub.execute_input": "2022-07-02T09:07:39.299736Z",
     "iopub.status.busy": "2022-07-02T09:07:39.299272Z",
     "iopub.status.idle": "2022-07-02T09:07:39.562910Z",
     "shell.execute_reply": "2022-07-02T09:07:39.561825Z"
    },
    "papermill": {
     "duration": 0.308862,
     "end_time": "2022-07-02T09:07:39.565652",
     "exception": false,
     "start_time": "2022-07-02T09:07:39.256790",
     "status": "completed"
    },
    "tags": []
   },
   "outputs": [
    {
     "data": {
      "image/png": "[encoded data removed]",
      "text/plain": [
       "<Figure size 1584x648 with 1 Axes>"
      ]
     },
     "metadata": {
      "needs_background": "light"
     },
     "output_type": "display_data"
    }
   ],
   "source": [
    "# train data Survival vs Fare bins\n",
    "fig,axis = plt.subplots(figsize = (22,9))\n",
    "sns.countplot(x='AgeBin', hue='Survived', data=train_data)\n",
    "\n",
    "plt.xlabel('Fare', size=15, labelpad=20)\n",
    "plt.ylabel('Passenger Count', size=15, labelpad=20)\n",
    "plt.tick_params(axis='x', labelsize=10)\n",
    "plt.tick_params(axis='y', labelsize=15)\n",
    "\n",
    "plt.legend(['Not Survived', 'Survived'], loc='upper right', prop={'size': 15})\n",
    "plt.title('Count of Survival in {} Feature'.format('Age'), size=15, y=1.05)\n",
    "\n",
    "plt.show()\n"
   ]
  },
  {
   "cell_type": "code",
   "execution_count": 37,
   "id": "32b16ded",
   "metadata": {
    "execution": {
     "iopub.execute_input": "2022-07-02T09:07:39.622760Z",
     "iopub.status.busy": "2022-07-02T09:07:39.621901Z",
     "iopub.status.idle": "2022-07-02T09:07:40.367809Z",
     "shell.execute_reply": "2022-07-02T09:07:40.366766Z"
    },
    "papermill": {
     "duration": 0.776804,
     "end_time": "2022-07-02T09:07:40.370096",
     "exception": false,
     "start_time": "2022-07-02T09:07:39.593292",
     "status": "completed"
    },
    "tags": []
   },
   "outputs": [
    {
     "data": {
      "image/png": "[encoded data removed]",
      "text/plain": [
       "<Figure size 1440x1440 with 4 Axes>"
      ]
     },
     "metadata": {
      "needs_background": "light"
     },
     "output_type": "display_data"
    }
   ],
   "source": [
    "fig, axs = plt.subplots(figsize=(20, 20), ncols=2, nrows=2)\n",
    "plt.subplots_adjust(right=1.5)\n",
    "\n",
    "sns.barplot(x=train_data['FamilySize'].value_counts().index, y=train_data['FamilySize'].value_counts().values, ax=axs[0][0])\n",
    "sns.countplot(x='FamilySize', hue='Survived', data=train_data, ax=axs[0][1])\n",
    "\n",
    "axs[0][0].set_title('Family Size Feature Value Counts', size=20, y=1.05)\n",
    "axs[0][1].set_title('Survival Counts in Family Size ', size=20, y=1.05)\n",
    "\n",
    "family_map = {1: 'Alone', 2: 'Small', 3: 'Small', 4: 'Small', 5: 'Medium', 6: 'Medium', 7: 'Large', 8: 'Large', 11: 'Large'}\n",
    "train_data['FamilySize_Grouped'] = train_data['FamilySize'].map(family_map)\n",
    "\n",
    "sns.barplot(x=train_data['FamilySize_Grouped'].value_counts().index, y=train_data['FamilySize_Grouped'].value_counts().values, ax=axs[1][0])\n",
    "sns.countplot(x='FamilySize_Grouped', hue='Survived', data=train_data, ax=axs[1][1])\n",
    "\n",
    "axs[1][0].set_title('Family Size Feature Value Counts After Grouping', size=20, y=1.05)\n",
    "axs[1][1].set_title('Survival Counts in Family Size After Grouping', size=20, y=1.05)\n",
    "\n",
    "for i in range(2):\n",
    "    axs[i][1].legend(['Not Survived', 'Survived'], loc='upper right', prop={'size': 20})\n",
    "    for j in range(2):\n",
    "        axs[i][j].tick_params(axis='x', labelsize=20)\n",
    "        axs[i][j].tick_params(axis='y', labelsize=20)\n",
    "        axs[i][j].set_xlabel('')\n",
    "        axs[i][j].set_ylabel('')\n",
    "\n",
    "plt.show()"
   ]
  },
  {
   "cell_type": "code",
   "execution_count": 38,
   "id": "17e2eeaf",
   "metadata": {
    "execution": {
     "iopub.execute_input": "2022-07-02T09:07:40.429089Z",
     "iopub.status.busy": "2022-07-02T09:07:40.428646Z",
     "iopub.status.idle": "2022-07-02T09:07:40.436861Z",
     "shell.execute_reply": "2022-07-02T09:07:40.435645Z"
    },
    "papermill": {
     "duration": 0.040701,
     "end_time": "2022-07-02T09:07:40.439284",
     "exception": false,
     "start_time": "2022-07-02T09:07:40.398583",
     "status": "completed"
    },
    "tags": []
   },
   "outputs": [],
   "source": [
    "family_map = {1: 'Alone', 2: 'Small', 3: 'Small', 4: 'Small', 5: 'Medium', 6: 'Medium', 7: 'Large', 8: 'Large', 11: 'Large'}\n",
    "test_data['FamilySize_Grouped'] = test_data['FamilySize'].map(family_map)"
   ]
  },
  {
   "cell_type": "code",
   "execution_count": 39,
   "id": "58e858d8",
   "metadata": {
    "execution": {
     "iopub.execute_input": "2022-07-02T09:07:40.498718Z",
     "iopub.status.busy": "2022-07-02T09:07:40.497632Z",
     "iopub.status.idle": "2022-07-02T09:07:40.505234Z",
     "shell.execute_reply": "2022-07-02T09:07:40.504360Z"
    },
    "papermill": {
     "duration": 0.039587,
     "end_time": "2022-07-02T09:07:40.507513",
     "exception": false,
     "start_time": "2022-07-02T09:07:40.467926",
     "status": "completed"
    },
    "tags": []
   },
   "outputs": [],
   "source": [
    "train_data[\"Ticket_Frequency\"] = train_data.groupby('Ticket')['Ticket'].transform('count')"
   ]
  },
  {
   "cell_type": "code",
   "execution_count": 40,
   "id": "e3120ec9",
   "metadata": {
    "execution": {
     "iopub.execute_input": "2022-07-02T09:07:40.567000Z",
     "iopub.status.busy": "2022-07-02T09:07:40.566262Z",
     "iopub.status.idle": "2022-07-02T09:07:40.573033Z",
     "shell.execute_reply": "2022-07-02T09:07:40.572232Z"
    },
    "papermill": {
     "duration": 0.038886,
     "end_time": "2022-07-02T09:07:40.575176",
     "exception": false,
     "start_time": "2022-07-02T09:07:40.536290",
     "status": "completed"
    },
    "tags": []
   },
   "outputs": [],
   "source": [
    "test_data[\"Ticket_Frequency\"] = test_data.groupby('Ticket')['Ticket'].transform('count')"
   ]
  },
  {
   "cell_type": "code",
   "execution_count": 41,
   "id": "c8a8fb20",
   "metadata": {
    "execution": {
     "iopub.execute_input": "2022-07-02T09:07:40.634848Z",
     "iopub.status.busy": "2022-07-02T09:07:40.633888Z",
     "iopub.status.idle": "2022-07-02T09:07:40.912213Z",
     "shell.execute_reply": "2022-07-02T09:07:40.910928Z"
    },
    "papermill": {
     "duration": 0.310495,
     "end_time": "2022-07-02T09:07:40.914724",
     "exception": false,
     "start_time": "2022-07-02T09:07:40.604229",
     "status": "completed"
    },
    "tags": []
   },
   "outputs": [
    {
     "data": {
      "image/png": "[encoded data removed]",
      "text/plain": [
       "<Figure size 1584x648 with 1 Axes>"
      ]
     },
     "metadata": {
      "needs_background": "light"
     },
     "output_type": "display_data"
    }
   ],
   "source": [
    "# train data Survival vs ticket frequency\n",
    "fig,axis = plt.subplots(figsize = (22,9))\n",
    "sns.countplot(x='Ticket_Frequency', hue='Survived', data=train_data)\n",
    "\n",
    "plt.xlabel('Fare', size=15, labelpad=20)\n",
    "plt.ylabel('Passenger Count', size=15, labelpad=20)\n",
    "plt.tick_params(axis='x', labelsize=10)\n",
    "plt.tick_params(axis='y', labelsize=15)\n",
    "\n",
    "plt.legend(['Not Survived', 'Survived'], loc='upper right', prop={'size': 15})\n",
    "plt.title('Count of Survival in {} Feature'.format('Age'), size=15, y=1.05)\n",
    "\n",
    "plt.show()\n"
   ]
  },
  {
   "cell_type": "code",
   "execution_count": 42,
   "id": "1a1dbe74",
   "metadata": {
    "execution": {
     "iopub.execute_input": "2022-07-02T09:07:40.975176Z",
     "iopub.status.busy": "2022-07-02T09:07:40.974745Z",
     "iopub.status.idle": "2022-07-02T09:07:40.983479Z",
     "shell.execute_reply": "2022-07-02T09:07:40.982044Z"
    },
    "papermill": {
     "duration": 0.041956,
     "end_time": "2022-07-02T09:07:40.986317",
     "exception": false,
     "start_time": "2022-07-02T09:07:40.944361",
     "status": "completed"
    },
    "tags": []
   },
   "outputs": [
    {
     "name": "stderr",
     "output_type": "stream",
     "text": [
      "/opt/conda/lib/python3.7/site-packages/pandas/core/indexing.py:1732: SettingWithCopyWarning: \n",
      "A value is trying to be set on a copy of a slice from a DataFrame\n",
      "\n",
      "See the caveats in the documentation: https://pandas.pydata.org/pandas-docs/stable/user_guide/indexing.html#returning-a-view-versus-a-copy\n",
      "  self._setitem_single_block(indexer, value, name)\n"
     ]
    }
   ],
   "source": [
    "train_data['Is_Married'] = 0\n",
    "train_data['Is_Married'].loc[train_data['Title'] == 'Mrs'] = 1"
   ]
  },
  {
   "cell_type": "code",
   "execution_count": 43,
   "id": "5b98fdb9",
   "metadata": {
    "execution": {
     "iopub.execute_input": "2022-07-02T09:07:41.048361Z",
     "iopub.status.busy": "2022-07-02T09:07:41.047582Z",
     "iopub.status.idle": "2022-07-02T09:07:41.053885Z",
     "shell.execute_reply": "2022-07-02T09:07:41.053050Z"
    },
    "papermill": {
     "duration": 0.039573,
     "end_time": "2022-07-02T09:07:41.056130",
     "exception": false,
     "start_time": "2022-07-02T09:07:41.016557",
     "status": "completed"
    },
    "tags": []
   },
   "outputs": [],
   "source": [
    "test_data['Is_Married'] = 0\n",
    "test_data['Is_Married'].loc[test_data['Title'] == 'Mrs'] = 1"
   ]
  },
  {
   "cell_type": "code",
   "execution_count": 44,
   "id": "61efb545",
   "metadata": {
    "execution": {
     "iopub.execute_input": "2022-07-02T09:07:41.116144Z",
     "iopub.status.busy": "2022-07-02T09:07:41.115413Z",
     "iopub.status.idle": "2022-07-02T09:07:41.150230Z",
     "shell.execute_reply": "2022-07-02T09:07:41.149309Z"
    },
    "papermill": {
     "duration": 0.067713,
     "end_time": "2022-07-02T09:07:41.152690",
     "exception": false,
     "start_time": "2022-07-02T09:07:41.084977",
     "status": "completed"
    },
    "tags": []
   },
   "outputs": [],
   "source": [
    "import string\n",
    "def extract_surname(data):\n",
    "    \n",
    "    families = []\n",
    "    \n",
    "    for i in range(len(data)):\n",
    "        name = data.iloc[i]\n",
    "        if '(' in name:\n",
    "            name_no_bracket = name.split('(')[0] \n",
    "        else:\n",
    "            name_no_bracket = name\n",
    "            \n",
    "        family = name_no_bracket.split(',')[0]\n",
    "        title = name_no_bracket.split(',')[1].strip().split(' ')[0]\n",
    "        \n",
    "        for c in string.punctuation:\n",
    "            family = family.replace(c, '').strip()\n",
    "            \n",
    "        families.append(family)\n",
    "            \n",
    "    return families\n",
    "\n",
    "train_data[\"Family\"] = extract_surname(train_data[\"Name\"])\n",
    "test_data[\"Family\"] = extract_surname(test_data[\"Name\"])"
   ]
  },
  {
   "cell_type": "markdown",
   "id": "2fbe46d8",
   "metadata": {
    "papermill": {
     "duration": 0.029218,
     "end_time": "2022-07-02T09:07:41.210598",
     "exception": false,
     "start_time": "2022-07-02T09:07:41.181380",
     "status": "completed"
    },
    "tags": []
   },
   "source": [
    "<!DOCTYPE html>\n",
    "<html>\n",
    "<head>\n",
    "<title>\n",
    "</title>\n",
    "<meta name=\"viewport\" content=\"width=device-width, initial-scale=1\">\n",
    "</head>\n",
    "<body>\n",
    "<h1 style=\"color:DodgerBlue;\">\n",
    "some more feature</h1>\n",
    "<ul style=\"color:DodgerBlue; list-style-type: square; padding: 10px; font-size:16px;\">\n",
    "    <li>Family Survival Rate : this will indicate survival rate of family(we club family using surname) </li>\n",
    "    <li>Ticket Survival Rate : this will indicate survival rate of perticular tikcets </li>\n",
    "</ul>\n",
    "</body>\n",
    "</html>"
   ]
  },
  {
   "cell_type": "code",
   "execution_count": 45,
   "id": "e6f1f969",
   "metadata": {
    "execution": {
     "iopub.execute_input": "2022-07-02T09:07:41.271630Z",
     "iopub.status.busy": "2022-07-02T09:07:41.270915Z",
     "iopub.status.idle": "2022-07-02T09:07:41.421670Z",
     "shell.execute_reply": "2022-07-02T09:07:41.420422Z"
    },
    "papermill": {
     "duration": 0.184097,
     "end_time": "2022-07-02T09:07:41.424454",
     "exception": false,
     "start_time": "2022-07-02T09:07:41.240357",
     "status": "completed"
    },
    "tags": []
   },
   "outputs": [],
   "source": [
    "# Creating a list of families and tickets that are occuring in both training and test set\n",
    "non_unique_families = [x for x in train_data[\"Family\"].unique() if x in test_data[\"Family\"].unique()]\n",
    "non_unique_tickets = [x for x in train_data[\"Ticket\"].unique() if x in test_data[\"Ticket\"].unique()]"
   ]
  },
  {
   "cell_type": "code",
   "execution_count": 46,
   "id": "d2ac58e3",
   "metadata": {
    "execution": {
     "iopub.execute_input": "2022-07-02T09:07:41.483702Z",
     "iopub.status.busy": "2022-07-02T09:07:41.483299Z",
     "iopub.status.idle": "2022-07-02T09:07:41.499561Z",
     "shell.execute_reply": "2022-07-02T09:07:41.497638Z"
    },
    "papermill": {
     "duration": 0.048668,
     "end_time": "2022-07-02T09:07:41.501907",
     "exception": false,
     "start_time": "2022-07-02T09:07:41.453239",
     "status": "completed"
    },
    "tags": []
   },
   "outputs": [
    {
     "name": "stderr",
     "output_type": "stream",
     "text": [
      "/opt/conda/lib/python3.7/site-packages/ipykernel_launcher.py:1: FutureWarning: Indexing with multiple keys (implicitly converted to a tuple of keys) will be deprecated, use a list instead.\n",
      "  \"\"\"Entry point for launching an IPython kernel.\n",
      "/opt/conda/lib/python3.7/site-packages/ipykernel_launcher.py:2: FutureWarning: Indexing with multiple keys (implicitly converted to a tuple of keys) will be deprecated, use a list instead.\n",
      "  \n"
     ]
    }
   ],
   "source": [
    "df_family_survival_rate = train_data.groupby(\"Family\")[\"Survived\",\"Family\",\"FamilySize\"].median()\n",
    "df_ticket_survival_rate = train_data.groupby(\"Ticket\")[\"Survived\",\"Ticket\", \"Ticket_Frequency\"].median()"
   ]
  },
  {
   "cell_type": "code",
   "execution_count": 47,
   "id": "5c54aac1",
   "metadata": {
    "execution": {
     "iopub.execute_input": "2022-07-02T09:07:41.561709Z",
     "iopub.status.busy": "2022-07-02T09:07:41.560912Z",
     "iopub.status.idle": "2022-07-02T09:07:41.566354Z",
     "shell.execute_reply": "2022-07-02T09:07:41.565222Z"
    },
    "papermill": {
     "duration": 0.037969,
     "end_time": "2022-07-02T09:07:41.568617",
     "exception": false,
     "start_time": "2022-07-02T09:07:41.530648",
     "status": "completed"
    },
    "tags": []
   },
   "outputs": [],
   "source": [
    "family_rates = {}\n",
    "ticket_rates = {}"
   ]
  },
  {
   "cell_type": "code",
   "execution_count": 48,
   "id": "0009893b",
   "metadata": {
    "execution": {
     "iopub.execute_input": "2022-07-02T09:07:41.628215Z",
     "iopub.status.busy": "2022-07-02T09:07:41.627775Z",
     "iopub.status.idle": "2022-07-02T09:07:41.656932Z",
     "shell.execute_reply": "2022-07-02T09:07:41.655560Z"
    },
    "papermill": {
     "duration": 0.062113,
     "end_time": "2022-07-02T09:07:41.659511",
     "exception": false,
     "start_time": "2022-07-02T09:07:41.597398",
     "status": "completed"
    },
    "tags": []
   },
   "outputs": [],
   "source": [
    "for i in range(len(df_family_survival_rate)):\n",
    "    # Checking a family exists in both training and test set, and has members more than 1\n",
    "    if df_family_survival_rate.index[i] in non_unique_families and df_family_survival_rate.iloc[i, 1] > 1:\n",
    "        family_rates[df_family_survival_rate.index[i]] = df_family_survival_rate.iloc[i, 0]\n",
    "\n",
    "\n",
    "for i in range(len(df_ticket_survival_rate)):\n",
    "    \n",
    "    # checking ticket avilable in both train and test set and has more than 1 member\n",
    "    if df_ticket_survival_rate.index[i] in non_unique_tickets and df_ticket_survival_rate.iloc[i,1]>1 :\n",
    "        ticket_rates[df_ticket_survival_rate.index[i]] = df_ticket_survival_rate.iloc[i,0]"
   ]
  },
  {
   "cell_type": "code",
   "execution_count": 49,
   "id": "92c81242",
   "metadata": {
    "execution": {
     "iopub.execute_input": "2022-07-02T09:07:41.719728Z",
     "iopub.status.busy": "2022-07-02T09:07:41.719318Z",
     "iopub.status.idle": "2022-07-02T09:07:41.748692Z",
     "shell.execute_reply": "2022-07-02T09:07:41.747691Z"
    },
    "papermill": {
     "duration": 0.062396,
     "end_time": "2022-07-02T09:07:41.751120",
     "exception": false,
     "start_time": "2022-07-02T09:07:41.688724",
     "status": "completed"
    },
    "tags": []
   },
   "outputs": [],
   "source": [
    "mean_survival_rate = np.mean(train_data['Survived'])\n",
    "\n",
    "# family survival rate \n",
    "train_family_survival_rate = []\n",
    "train_family_survival_rate_NA = []\n",
    "test_family_survival_rate = []\n",
    "test_family_survival_rate_NA = []\n",
    "\n",
    "for i in range(len(train_data)):\n",
    "    if train_data[\"Family\"][i] in family_rates :\n",
    "        train_family_survival_rate.append(family_rates[train_data[\"Family\"][i]])\n",
    "        train_family_survival_rate_NA.append(1)\n",
    "    else:\n",
    "        train_family_survival_rate.append(mean_survival_rate)\n",
    "        train_family_survival_rate_NA.append(0)\n",
    "        \n",
    "for i in range(len(test_data)):\n",
    "    if test_data[\"Family\"].iloc[i] in family_rates :\n",
    "        test_family_survival_rate.append(family_rates[test_data[\"Family\"].iloc[i]])\n",
    "        test_family_survival_rate_NA.append(1)\n",
    "    else:\n",
    "        test_family_survival_rate.append(mean_survival_rate)\n",
    "        test_family_survival_rate_NA.append(0)\n",
    "        \n",
    "train_data[\"Famiily_survival_rates\"] = train_family_survival_rate\n",
    "train_data[\"Famiily_survival_rates_NA\"] = train_family_survival_rate_NA\n",
    "test_data[\"Famiily_survival_rates\"] = test_family_survival_rate\n",
    "test_data[\"Famiily_survival_rates_NA\"] = test_family_survival_rate_NA"
   ]
  },
  {
   "cell_type": "code",
   "execution_count": 50,
   "id": "67e6e6fa",
   "metadata": {
    "execution": {
     "iopub.execute_input": "2022-07-02T09:07:41.812198Z",
     "iopub.status.busy": "2022-07-02T09:07:41.811370Z",
     "iopub.status.idle": "2022-07-02T09:07:41.841787Z",
     "shell.execute_reply": "2022-07-02T09:07:41.840873Z"
    },
    "papermill": {
     "duration": 0.064032,
     "end_time": "2022-07-02T09:07:41.844550",
     "exception": false,
     "start_time": "2022-07-02T09:07:41.780518",
     "status": "completed"
    },
    "tags": []
   },
   "outputs": [],
   "source": [
    "# now we will do same for ticket_survival_rate\n",
    "\n",
    "train_ticket_survival_rate = []\n",
    "train_ticket_survival_rate_NA = []\n",
    "test_ticket_survival_rate = []\n",
    "test_ticket_survival_rate_NA = []\n",
    "\n",
    "for i in range(len(train_data)):\n",
    "    if train_data[\"Ticket\"][i] in ticket_rates:\n",
    "        train_ticket_survival_rate.append(ticket_rates[train_data[\"Ticket\"][i]])\n",
    "        train_ticket_survival_rate_NA.append(1)\n",
    "    else:\n",
    "        train_ticket_survival_rate.append(mean_survival_rate)\n",
    "        train_ticket_survival_rate_NA.append(0)\n",
    "\n",
    "for i in range(len(test_data)):\n",
    "    if test_data[\"Ticket\"].iloc[i] in ticket_rates:\n",
    "        test_ticket_survival_rate.append(ticket_rates[test_data[\"Ticket\"].iloc[i]])\n",
    "        test_ticket_survival_rate_NA.append(1)\n",
    "    else:\n",
    "        test_ticket_survival_rate.append(mean_survival_rate)\n",
    "        test_ticket_survival_rate_NA.append(0)\n",
    "\n",
    "train_data[\"Ticket_survival_rates\"] = train_ticket_survival_rate\n",
    "train_data[\"Ticket_survival_rates_NA\"] = train_ticket_survival_rate_NA\n",
    "\n",
    "test_data[\"Ticket_survival_rates\"] = test_ticket_survival_rate\n",
    "test_data[\"Ticket_survival_rates_NA\"] = test_ticket_survival_rate_NA"
   ]
  },
  {
   "cell_type": "code",
   "execution_count": 51,
   "id": "c7adc2b1",
   "metadata": {
    "execution": {
     "iopub.execute_input": "2022-07-02T09:07:41.904651Z",
     "iopub.status.busy": "2022-07-02T09:07:41.904251Z",
     "iopub.status.idle": "2022-07-02T09:07:41.934737Z",
     "shell.execute_reply": "2022-07-02T09:07:41.933399Z"
    },
    "papermill": {
     "duration": 0.063539,
     "end_time": "2022-07-02T09:07:41.937345",
     "exception": false,
     "start_time": "2022-07-02T09:07:41.873806",
     "status": "completed"
    },
    "tags": []
   },
   "outputs": [
    {
     "data": {
      "text/html": [
       "<div>\n",
       "<style scoped>\n",
       "    .dataframe tbody tr th:only-of-type {\n",
       "        vertical-align: middle;\n",
       "    }\n",
       "\n",
       "    .dataframe tbody tr th {\n",
       "        vertical-align: top;\n",
       "    }\n",
       "\n",
       "    .dataframe thead th {\n",
       "        text-align: right;\n",
       "    }\n",
       "</style>\n",
       "<table border=\"1\" class=\"dataframe\">\n",
       "  <thead>\n",
       "    <tr style=\"text-align: right;\">\n",
       "      <th></th>\n",
       "      <th>PassengerId</th>\n",
       "      <th>Survived</th>\n",
       "      <th>Pclass</th>\n",
       "      <th>Name</th>\n",
       "      <th>Sex</th>\n",
       "      <th>Age</th>\n",
       "      <th>SibSp</th>\n",
       "      <th>Parch</th>\n",
       "      <th>Ticket</th>\n",
       "      <th>Fare</th>\n",
       "      <th>...</th>\n",
       "      <th>AgeBin</th>\n",
       "      <th>Title</th>\n",
       "      <th>FamilySize_Grouped</th>\n",
       "      <th>Ticket_Frequency</th>\n",
       "      <th>Is_Married</th>\n",
       "      <th>Family</th>\n",
       "      <th>Famiily_survival_rates</th>\n",
       "      <th>Famiily_survival_rates_NA</th>\n",
       "      <th>Ticket_survival_rates</th>\n",
       "      <th>Ticket_survival_rates_NA</th>\n",
       "    </tr>\n",
       "  </thead>\n",
       "  <tbody>\n",
       "    <tr>\n",
       "      <th>0</th>\n",
       "      <td>1</td>\n",
       "      <td>0</td>\n",
       "      <td>3</td>\n",
       "      <td>Braund, Mr. Owen Harris</td>\n",
       "      <td>male</td>\n",
       "      <td>22.0</td>\n",
       "      <td>1</td>\n",
       "      <td>0</td>\n",
       "      <td>A/5 21171</td>\n",
       "      <td>7.2500</td>\n",
       "      <td>...</td>\n",
       "      <td>(20.0, 25.0]</td>\n",
       "      <td>Mr</td>\n",
       "      <td>Small</td>\n",
       "      <td>1</td>\n",
       "      <td>0</td>\n",
       "      <td>Braund</td>\n",
       "      <td>0.383838</td>\n",
       "      <td>0</td>\n",
       "      <td>0.383838</td>\n",
       "      <td>0</td>\n",
       "    </tr>\n",
       "    <tr>\n",
       "      <th>1</th>\n",
       "      <td>2</td>\n",
       "      <td>1</td>\n",
       "      <td>1</td>\n",
       "      <td>Cumings, Mrs. John Bradley (Florence Briggs Th...</td>\n",
       "      <td>female</td>\n",
       "      <td>38.0</td>\n",
       "      <td>1</td>\n",
       "      <td>0</td>\n",
       "      <td>PC 17599</td>\n",
       "      <td>71.2833</td>\n",
       "      <td>...</td>\n",
       "      <td>(30.0, 40.0]</td>\n",
       "      <td>Mrs</td>\n",
       "      <td>Small</td>\n",
       "      <td>1</td>\n",
       "      <td>1</td>\n",
       "      <td>Cumings</td>\n",
       "      <td>1.000000</td>\n",
       "      <td>1</td>\n",
       "      <td>0.383838</td>\n",
       "      <td>0</td>\n",
       "    </tr>\n",
       "    <tr>\n",
       "      <th>2</th>\n",
       "      <td>3</td>\n",
       "      <td>1</td>\n",
       "      <td>3</td>\n",
       "      <td>Heikkinen, Miss. Laina</td>\n",
       "      <td>female</td>\n",
       "      <td>26.0</td>\n",
       "      <td>0</td>\n",
       "      <td>0</td>\n",
       "      <td>STON/O2. 3101282</td>\n",
       "      <td>7.9250</td>\n",
       "      <td>...</td>\n",
       "      <td>(25.0, 30.0]</td>\n",
       "      <td>Miss</td>\n",
       "      <td>Alone</td>\n",
       "      <td>1</td>\n",
       "      <td>0</td>\n",
       "      <td>Heikkinen</td>\n",
       "      <td>0.383838</td>\n",
       "      <td>0</td>\n",
       "      <td>0.383838</td>\n",
       "      <td>0</td>\n",
       "    </tr>\n",
       "    <tr>\n",
       "      <th>3</th>\n",
       "      <td>4</td>\n",
       "      <td>1</td>\n",
       "      <td>1</td>\n",
       "      <td>Futrelle, Mrs. Jacques Heath (Lily May Peel)</td>\n",
       "      <td>female</td>\n",
       "      <td>35.0</td>\n",
       "      <td>1</td>\n",
       "      <td>0</td>\n",
       "      <td>113803</td>\n",
       "      <td>53.1000</td>\n",
       "      <td>...</td>\n",
       "      <td>(30.0, 40.0]</td>\n",
       "      <td>Mrs</td>\n",
       "      <td>Small</td>\n",
       "      <td>2</td>\n",
       "      <td>1</td>\n",
       "      <td>Futrelle</td>\n",
       "      <td>0.383838</td>\n",
       "      <td>0</td>\n",
       "      <td>0.383838</td>\n",
       "      <td>0</td>\n",
       "    </tr>\n",
       "    <tr>\n",
       "      <th>4</th>\n",
       "      <td>5</td>\n",
       "      <td>0</td>\n",
       "      <td>3</td>\n",
       "      <td>Allen, Mr. William Henry</td>\n",
       "      <td>male</td>\n",
       "      <td>35.0</td>\n",
       "      <td>0</td>\n",
       "      <td>0</td>\n",
       "      <td>373450</td>\n",
       "      <td>8.0500</td>\n",
       "      <td>...</td>\n",
       "      <td>(30.0, 40.0]</td>\n",
       "      <td>Mr</td>\n",
       "      <td>Alone</td>\n",
       "      <td>1</td>\n",
       "      <td>0</td>\n",
       "      <td>Allen</td>\n",
       "      <td>0.383838</td>\n",
       "      <td>0</td>\n",
       "      <td>0.383838</td>\n",
       "      <td>0</td>\n",
       "    </tr>\n",
       "  </tbody>\n",
       "</table>\n",
       "<p>5 rows × 25 columns</p>\n",
       "</div>"
      ],
      "text/plain": [
       "   PassengerId  Survived  Pclass  \\\n",
       "0            1         0       3   \n",
       "1            2         1       1   \n",
       "2            3         1       3   \n",
       "3            4         1       1   \n",
       "4            5         0       3   \n",
       "\n",
       "                                                Name     Sex   Age  SibSp  \\\n",
       "0                            Braund, Mr. Owen Harris    male  22.0      1   \n",
       "1  Cumings, Mrs. John Bradley (Florence Briggs Th...  female  38.0      1   \n",
       "2                             Heikkinen, Miss. Laina  female  26.0      0   \n",
       "3       Futrelle, Mrs. Jacques Heath (Lily May Peel)  female  35.0      1   \n",
       "4                           Allen, Mr. William Henry    male  35.0      0   \n",
       "\n",
       "   Parch            Ticket     Fare  ...        AgeBin Title  \\\n",
       "0      0         A/5 21171   7.2500  ...  (20.0, 25.0]    Mr   \n",
       "1      0          PC 17599  71.2833  ...  (30.0, 40.0]   Mrs   \n",
       "2      0  STON/O2. 3101282   7.9250  ...  (25.0, 30.0]  Miss   \n",
       "3      0            113803  53.1000  ...  (30.0, 40.0]   Mrs   \n",
       "4      0            373450   8.0500  ...  (30.0, 40.0]    Mr   \n",
       "\n",
       "   FamilySize_Grouped  Ticket_Frequency Is_Married     Family  \\\n",
       "0               Small                 1          0     Braund   \n",
       "1               Small                 1          1    Cumings   \n",
       "2               Alone                 1          0  Heikkinen   \n",
       "3               Small                 2          1   Futrelle   \n",
       "4               Alone                 1          0      Allen   \n",
       "\n",
       "  Famiily_survival_rates Famiily_survival_rates_NA  Ticket_survival_rates  \\\n",
       "0               0.383838                         0               0.383838   \n",
       "1               1.000000                         1               0.383838   \n",
       "2               0.383838                         0               0.383838   \n",
       "3               0.383838                         0               0.383838   \n",
       "4               0.383838                         0               0.383838   \n",
       "\n",
       "   Ticket_survival_rates_NA  \n",
       "0                         0  \n",
       "1                         0  \n",
       "2                         0  \n",
       "3                         0  \n",
       "4                         0  \n",
       "\n",
       "[5 rows x 25 columns]"
      ]
     },
     "execution_count": 51,
     "metadata": {},
     "output_type": "execute_result"
    }
   ],
   "source": [
    "train_data.head()"
   ]
  },
  {
   "cell_type": "markdown",
   "id": "b17407d8",
   "metadata": {
    "papermill": {
     "duration": 0.029499,
     "end_time": "2022-07-02T09:07:41.996678",
     "exception": false,
     "start_time": "2022-07-02T09:07:41.967179",
     "status": "completed"
    },
    "tags": []
   },
   "source": [
    "<!DOCTYPE html>\n",
    "<html>\n",
    "<head>\n",
    "<title>\n",
    "</title>\n",
    "<meta name=\"viewport\" content=\"width=device-width, initial-scale=1\">\n",
    "</head>\n",
    "<body>\n",
    "<h1 style=\"color:DodgerBlue;\">\n",
    "Feature Transformation</h1>\n",
    "<ul style=\"color:DodgerBlue; list-style-type: square; padding: 10px; font-size:16px;\">\n",
    "    <li>Label Encoding Non-Numerical Features</li>\n",
    "    <li>One-Hot Encoding the Categorical Features </li>\n",
    "</ul>\n",
    "</body>\n",
    "</html> \n"
   ]
  },
  {
   "cell_type": "code",
   "execution_count": 52,
   "id": "5d2a1331",
   "metadata": {
    "execution": {
     "iopub.execute_input": "2022-07-02T09:07:42.057790Z",
     "iopub.status.busy": "2022-07-02T09:07:42.057409Z",
     "iopub.status.idle": "2022-07-02T09:07:42.062835Z",
     "shell.execute_reply": "2022-07-02T09:07:42.061632Z"
    },
    "papermill": {
     "duration": 0.038455,
     "end_time": "2022-07-02T09:07:42.065077",
     "exception": false,
     "start_time": "2022-07-02T09:07:42.026622",
     "status": "completed"
    },
    "tags": []
   },
   "outputs": [],
   "source": [
    "non_numeric_features = [\"Embarked\",\"Deck\",\"Title\",\"FamilySize_Grouped\",\"Sex\",\"AgeBin\",\"FareBin\"]"
   ]
  },
  {
   "cell_type": "code",
   "execution_count": 53,
   "id": "89313984",
   "metadata": {
    "execution": {
     "iopub.execute_input": "2022-07-02T09:07:42.126061Z",
     "iopub.status.busy": "2022-07-02T09:07:42.125666Z",
     "iopub.status.idle": "2022-07-02T09:07:42.130295Z",
     "shell.execute_reply": "2022-07-02T09:07:42.129209Z"
    },
    "papermill": {
     "duration": 0.038036,
     "end_time": "2022-07-02T09:07:42.132561",
     "exception": false,
     "start_time": "2022-07-02T09:07:42.094525",
     "status": "completed"
    },
    "tags": []
   },
   "outputs": [],
   "source": [
    "from sklearn.preprocessing import LabelEncoder,OneHotEncoder"
   ]
  },
  {
   "cell_type": "code",
   "execution_count": 54,
   "id": "daaa7d59",
   "metadata": {
    "execution": {
     "iopub.execute_input": "2022-07-02T09:07:42.193385Z",
     "iopub.status.busy": "2022-07-02T09:07:42.192993Z",
     "iopub.status.idle": "2022-07-02T09:07:42.215132Z",
     "shell.execute_reply": "2022-07-02T09:07:42.214248Z"
    },
    "papermill": {
     "duration": 0.055512,
     "end_time": "2022-07-02T09:07:42.217643",
     "exception": false,
     "start_time": "2022-07-02T09:07:42.162131",
     "status": "completed"
    },
    "tags": []
   },
   "outputs": [],
   "source": [
    "datasets = [train_data, test_data]\n",
    "for dataset in datasets:\n",
    "    for feature in non_numeric_features:\n",
    "        dataset[feature] = LabelEncoder().fit_transform(dataset[feature])"
   ]
  },
  {
   "cell_type": "code",
   "execution_count": 55,
   "id": "be4b1bcd",
   "metadata": {
    "execution": {
     "iopub.execute_input": "2022-07-02T09:07:42.279738Z",
     "iopub.status.busy": "2022-07-02T09:07:42.279374Z",
     "iopub.status.idle": "2022-07-02T09:07:42.284629Z",
     "shell.execute_reply": "2022-07-02T09:07:42.283440Z"
    },
    "papermill": {
     "duration": 0.038751,
     "end_time": "2022-07-02T09:07:42.286828",
     "exception": false,
     "start_time": "2022-07-02T09:07:42.248077",
     "status": "completed"
    },
    "tags": []
   },
   "outputs": [],
   "source": [
    "# categorical features\n",
    "cat_features = ['Pclass', 'Sex', 'Deck', 'Embarked', 'Title', 'FamilySize_Grouped']\n",
    "encoded_features = []"
   ]
  },
  {
   "cell_type": "code",
   "execution_count": 56,
   "id": "3f81b384",
   "metadata": {
    "execution": {
     "iopub.execute_input": "2022-07-02T09:07:42.348749Z",
     "iopub.status.busy": "2022-07-02T09:07:42.348354Z",
     "iopub.status.idle": "2022-07-02T09:07:42.368893Z",
     "shell.execute_reply": "2022-07-02T09:07:42.367831Z"
    },
    "papermill": {
     "duration": 0.055026,
     "end_time": "2022-07-02T09:07:42.371561",
     "exception": false,
     "start_time": "2022-07-02T09:07:42.316535",
     "status": "completed"
    },
    "tags": []
   },
   "outputs": [],
   "source": [
    "for dataset in datasets:\n",
    "    for feature in cat_features:\n",
    "        encoded_feat = OneHotEncoder().fit_transform(dataset[feature].values.reshape(-1,1)).toarray()\n",
    "        n = dataset[feature].nunique()\n",
    "        cols = ['{}_{}'.format(feature, n) for n in range(1, n + 1)]\n",
    "        encoded_df = pd.DataFrame(encoded_feat, columns=cols)\n",
    "        encoded_df.index = dataset.index\n",
    "        encoded_features.append(encoded_df)"
   ]
  },
  {
   "cell_type": "code",
   "execution_count": 57,
   "id": "84c8c306",
   "metadata": {
    "execution": {
     "iopub.execute_input": "2022-07-02T09:07:42.433065Z",
     "iopub.status.busy": "2022-07-02T09:07:42.432701Z",
     "iopub.status.idle": "2022-07-02T09:07:42.443224Z",
     "shell.execute_reply": "2022-07-02T09:07:42.442058Z"
    },
    "papermill": {
     "duration": 0.044014,
     "end_time": "2022-07-02T09:07:42.445651",
     "exception": false,
     "start_time": "2022-07-02T09:07:42.401637",
     "status": "completed"
    },
    "tags": []
   },
   "outputs": [],
   "source": [
    "train_data = pd.concat([train_data, *encoded_features[:6]], axis=1)\n",
    "test_data = pd.concat([test_data, *encoded_features[6:]], axis=1)"
   ]
  },
  {
   "cell_type": "code",
   "execution_count": 58,
   "id": "7cf0614c",
   "metadata": {
    "execution": {
     "iopub.execute_input": "2022-07-02T09:07:42.506105Z",
     "iopub.status.busy": "2022-07-02T09:07:42.505731Z",
     "iopub.status.idle": "2022-07-02T09:07:42.533999Z",
     "shell.execute_reply": "2022-07-02T09:07:42.533228Z"
    },
    "papermill": {
     "duration": 0.061057,
     "end_time": "2022-07-02T09:07:42.536127",
     "exception": false,
     "start_time": "2022-07-02T09:07:42.475070",
     "status": "completed"
    },
    "tags": []
   },
   "outputs": [
    {
     "data": {
      "text/html": [
       "<div>\n",
       "<style scoped>\n",
       "    .dataframe tbody tr th:only-of-type {\n",
       "        vertical-align: middle;\n",
       "    }\n",
       "\n",
       "    .dataframe tbody tr th {\n",
       "        vertical-align: top;\n",
       "    }\n",
       "\n",
       "    .dataframe thead th {\n",
       "        text-align: right;\n",
       "    }\n",
       "</style>\n",
       "<table border=\"1\" class=\"dataframe\">\n",
       "  <thead>\n",
       "    <tr style=\"text-align: right;\">\n",
       "      <th></th>\n",
       "      <th>PassengerId</th>\n",
       "      <th>Survived</th>\n",
       "      <th>Pclass</th>\n",
       "      <th>Name</th>\n",
       "      <th>Sex</th>\n",
       "      <th>Age</th>\n",
       "      <th>SibSp</th>\n",
       "      <th>Parch</th>\n",
       "      <th>Ticket</th>\n",
       "      <th>Fare</th>\n",
       "      <th>...</th>\n",
       "      <th>Embarked_3</th>\n",
       "      <th>Title_1</th>\n",
       "      <th>Title_2</th>\n",
       "      <th>Title_3</th>\n",
       "      <th>Title_4</th>\n",
       "      <th>Title_5</th>\n",
       "      <th>FamilySize_Grouped_1</th>\n",
       "      <th>FamilySize_Grouped_2</th>\n",
       "      <th>FamilySize_Grouped_3</th>\n",
       "      <th>FamilySize_Grouped_4</th>\n",
       "    </tr>\n",
       "  </thead>\n",
       "  <tbody>\n",
       "    <tr>\n",
       "      <th>0</th>\n",
       "      <td>1</td>\n",
       "      <td>0</td>\n",
       "      <td>3</td>\n",
       "      <td>Braund, Mr. Owen Harris</td>\n",
       "      <td>1</td>\n",
       "      <td>22.0</td>\n",
       "      <td>1</td>\n",
       "      <td>0</td>\n",
       "      <td>A/5 21171</td>\n",
       "      <td>7.2500</td>\n",
       "      <td>...</td>\n",
       "      <td>1.0</td>\n",
       "      <td>0.0</td>\n",
       "      <td>0.0</td>\n",
       "      <td>0.0</td>\n",
       "      <td>1.0</td>\n",
       "      <td>0.0</td>\n",
       "      <td>0.0</td>\n",
       "      <td>0.0</td>\n",
       "      <td>0.0</td>\n",
       "      <td>1.0</td>\n",
       "    </tr>\n",
       "    <tr>\n",
       "      <th>1</th>\n",
       "      <td>2</td>\n",
       "      <td>1</td>\n",
       "      <td>1</td>\n",
       "      <td>Cumings, Mrs. John Bradley (Florence Briggs Th...</td>\n",
       "      <td>0</td>\n",
       "      <td>38.0</td>\n",
       "      <td>1</td>\n",
       "      <td>0</td>\n",
       "      <td>PC 17599</td>\n",
       "      <td>71.2833</td>\n",
       "      <td>...</td>\n",
       "      <td>0.0</td>\n",
       "      <td>0.0</td>\n",
       "      <td>0.0</td>\n",
       "      <td>0.0</td>\n",
       "      <td>0.0</td>\n",
       "      <td>1.0</td>\n",
       "      <td>0.0</td>\n",
       "      <td>0.0</td>\n",
       "      <td>0.0</td>\n",
       "      <td>1.0</td>\n",
       "    </tr>\n",
       "    <tr>\n",
       "      <th>2</th>\n",
       "      <td>3</td>\n",
       "      <td>1</td>\n",
       "      <td>3</td>\n",
       "      <td>Heikkinen, Miss. Laina</td>\n",
       "      <td>0</td>\n",
       "      <td>26.0</td>\n",
       "      <td>0</td>\n",
       "      <td>0</td>\n",
       "      <td>STON/O2. 3101282</td>\n",
       "      <td>7.9250</td>\n",
       "      <td>...</td>\n",
       "      <td>1.0</td>\n",
       "      <td>0.0</td>\n",
       "      <td>0.0</td>\n",
       "      <td>1.0</td>\n",
       "      <td>0.0</td>\n",
       "      <td>0.0</td>\n",
       "      <td>1.0</td>\n",
       "      <td>0.0</td>\n",
       "      <td>0.0</td>\n",
       "      <td>0.0</td>\n",
       "    </tr>\n",
       "    <tr>\n",
       "      <th>3</th>\n",
       "      <td>4</td>\n",
       "      <td>1</td>\n",
       "      <td>1</td>\n",
       "      <td>Futrelle, Mrs. Jacques Heath (Lily May Peel)</td>\n",
       "      <td>0</td>\n",
       "      <td>35.0</td>\n",
       "      <td>1</td>\n",
       "      <td>0</td>\n",
       "      <td>113803</td>\n",
       "      <td>53.1000</td>\n",
       "      <td>...</td>\n",
       "      <td>1.0</td>\n",
       "      <td>0.0</td>\n",
       "      <td>0.0</td>\n",
       "      <td>0.0</td>\n",
       "      <td>0.0</td>\n",
       "      <td>1.0</td>\n",
       "      <td>0.0</td>\n",
       "      <td>0.0</td>\n",
       "      <td>0.0</td>\n",
       "      <td>1.0</td>\n",
       "    </tr>\n",
       "    <tr>\n",
       "      <th>4</th>\n",
       "      <td>5</td>\n",
       "      <td>0</td>\n",
       "      <td>3</td>\n",
       "      <td>Allen, Mr. William Henry</td>\n",
       "      <td>1</td>\n",
       "      <td>35.0</td>\n",
       "      <td>0</td>\n",
       "      <td>0</td>\n",
       "      <td>373450</td>\n",
       "      <td>8.0500</td>\n",
       "      <td>...</td>\n",
       "      <td>1.0</td>\n",
       "      <td>0.0</td>\n",
       "      <td>0.0</td>\n",
       "      <td>0.0</td>\n",
       "      <td>1.0</td>\n",
       "      <td>0.0</td>\n",
       "      <td>1.0</td>\n",
       "      <td>0.0</td>\n",
       "      <td>0.0</td>\n",
       "      <td>0.0</td>\n",
       "    </tr>\n",
       "  </tbody>\n",
       "</table>\n",
       "<p>5 rows × 46 columns</p>\n",
       "</div>"
      ],
      "text/plain": [
       "   PassengerId  Survived  Pclass  \\\n",
       "0            1         0       3   \n",
       "1            2         1       1   \n",
       "2            3         1       3   \n",
       "3            4         1       1   \n",
       "4            5         0       3   \n",
       "\n",
       "                                                Name  Sex   Age  SibSp  Parch  \\\n",
       "0                            Braund, Mr. Owen Harris    1  22.0      1      0   \n",
       "1  Cumings, Mrs. John Bradley (Florence Briggs Th...    0  38.0      1      0   \n",
       "2                             Heikkinen, Miss. Laina    0  26.0      0      0   \n",
       "3       Futrelle, Mrs. Jacques Heath (Lily May Peel)    0  35.0      1      0   \n",
       "4                           Allen, Mr. William Henry    1  35.0      0      0   \n",
       "\n",
       "             Ticket     Fare  ...  Embarked_3  Title_1  Title_2  Title_3  \\\n",
       "0         A/5 21171   7.2500  ...         1.0      0.0      0.0      0.0   \n",
       "1          PC 17599  71.2833  ...         0.0      0.0      0.0      0.0   \n",
       "2  STON/O2. 3101282   7.9250  ...         1.0      0.0      0.0      1.0   \n",
       "3            113803  53.1000  ...         1.0      0.0      0.0      0.0   \n",
       "4            373450   8.0500  ...         1.0      0.0      0.0      0.0   \n",
       "\n",
       "   Title_4  Title_5  FamilySize_Grouped_1  FamilySize_Grouped_2  \\\n",
       "0      1.0      0.0                   0.0                   0.0   \n",
       "1      0.0      1.0                   0.0                   0.0   \n",
       "2      0.0      0.0                   1.0                   0.0   \n",
       "3      0.0      1.0                   0.0                   0.0   \n",
       "4      1.0      0.0                   1.0                   0.0   \n",
       "\n",
       "   FamilySize_Grouped_3  FamilySize_Grouped_4  \n",
       "0                   0.0                   1.0  \n",
       "1                   0.0                   1.0  \n",
       "2                   0.0                   0.0  \n",
       "3                   0.0                   1.0  \n",
       "4                   0.0                   0.0  \n",
       "\n",
       "[5 rows x 46 columns]"
      ]
     },
     "execution_count": 58,
     "metadata": {},
     "output_type": "execute_result"
    }
   ],
   "source": [
    "train_data.head()"
   ]
  },
  {
   "cell_type": "code",
   "execution_count": 59,
   "id": "d19fcea7",
   "metadata": {
    "execution": {
     "iopub.execute_input": "2022-07-02T09:07:42.598299Z",
     "iopub.status.busy": "2022-07-02T09:07:42.597402Z",
     "iopub.status.idle": "2022-07-02T09:07:42.617613Z",
     "shell.execute_reply": "2022-07-02T09:07:42.616770Z"
    },
    "papermill": {
     "duration": 0.054084,
     "end_time": "2022-07-02T09:07:42.620369",
     "exception": false,
     "start_time": "2022-07-02T09:07:42.566285",
     "status": "completed"
    },
    "tags": []
   },
   "outputs": [
    {
     "name": "stdout",
     "output_type": "stream",
     "text": [
      "<class 'pandas.core.frame.DataFrame'>\n",
      "RangeIndex: 891 entries, 0 to 890\n",
      "Data columns (total 46 columns):\n",
      " #   Column                     Non-Null Count  Dtype  \n",
      "---  ------                     --------------  -----  \n",
      " 0   PassengerId                891 non-null    int64  \n",
      " 1   Survived                   891 non-null    int64  \n",
      " 2   Pclass                     891 non-null    int64  \n",
      " 3   Name                       891 non-null    object \n",
      " 4   Sex                        891 non-null    int64  \n",
      " 5   Age                        891 non-null    float64\n",
      " 6   SibSp                      891 non-null    int64  \n",
      " 7   Parch                      891 non-null    int64  \n",
      " 8   Ticket                     891 non-null    object \n",
      " 9   Fare                       891 non-null    float64\n",
      " 10  Embarked                   891 non-null    int64  \n",
      " 11  Deck                       891 non-null    int64  \n",
      " 12  FamilySize                 891 non-null    int64  \n",
      " 13  IsAlone                    891 non-null    int64  \n",
      " 14  FareBin                    891 non-null    int64  \n",
      " 15  AgeBin                     891 non-null    int64  \n",
      " 16  Title                      891 non-null    int64  \n",
      " 17  FamilySize_Grouped         891 non-null    int64  \n",
      " 18  Ticket_Frequency           891 non-null    int64  \n",
      " 19  Is_Married                 891 non-null    int64  \n",
      " 20  Family                     891 non-null    object \n",
      " 21  Famiily_survival_rates     891 non-null    float64\n",
      " 22  Famiily_survival_rates_NA  891 non-null    int64  \n",
      " 23  Ticket_survival_rates      891 non-null    float64\n",
      " 24  Ticket_survival_rates_NA   891 non-null    int64  \n",
      " 25  Pclass_1                   891 non-null    float64\n",
      " 26  Pclass_2                   891 non-null    float64\n",
      " 27  Pclass_3                   891 non-null    float64\n",
      " 28  Sex_1                      891 non-null    float64\n",
      " 29  Sex_2                      891 non-null    float64\n",
      " 30  Deck_1                     891 non-null    float64\n",
      " 31  Deck_2                     891 non-null    float64\n",
      " 32  Deck_3                     891 non-null    float64\n",
      " 33  Deck_4                     891 non-null    float64\n",
      " 34  Embarked_1                 891 non-null    float64\n",
      " 35  Embarked_2                 891 non-null    float64\n",
      " 36  Embarked_3                 891 non-null    float64\n",
      " 37  Title_1                    891 non-null    float64\n",
      " 38  Title_2                    891 non-null    float64\n",
      " 39  Title_3                    891 non-null    float64\n",
      " 40  Title_4                    891 non-null    float64\n",
      " 41  Title_5                    891 non-null    float64\n",
      " 42  FamilySize_Grouped_1       891 non-null    float64\n",
      " 43  FamilySize_Grouped_2       891 non-null    float64\n",
      " 44  FamilySize_Grouped_3       891 non-null    float64\n",
      " 45  FamilySize_Grouped_4       891 non-null    float64\n",
      "dtypes: float64(25), int64(18), object(3)\n",
      "memory usage: 320.3+ KB\n"
     ]
    }
   ],
   "source": [
    "train_data.info()"
   ]
  },
  {
   "cell_type": "code",
   "execution_count": 60,
   "id": "f4d2af3f",
   "metadata": {
    "execution": {
     "iopub.execute_input": "2022-07-02T09:07:42.682385Z",
     "iopub.status.busy": "2022-07-02T09:07:42.681991Z",
     "iopub.status.idle": "2022-07-02T09:07:42.687276Z",
     "shell.execute_reply": "2022-07-02T09:07:42.686457Z"
    },
    "papermill": {
     "duration": 0.039487,
     "end_time": "2022-07-02T09:07:42.689930",
     "exception": false,
     "start_time": "2022-07-02T09:07:42.650443",
     "status": "completed"
    },
    "tags": []
   },
   "outputs": [],
   "source": [
    "drop_cols = [\"Deck\",\"Embarked\",\"Family\",\"FamilySize\",\"FamilySize_Grouped\",\"Name\",\"Parch\",\"PassengerId\",\n",
    "             \"Pclass\",\"Sex\",\"SibSp\",\"Ticket\",\"Title\",\"Ticket_survival_rates\",\"Famiily_survival_rates\",\n",
    "             \"Ticket_survival_rates_NA\",\"Famiily_survival_rates_NA\",\"Age\",\"Fare\"]"
   ]
  },
  {
   "cell_type": "code",
   "execution_count": 61,
   "id": "2c80c7ad",
   "metadata": {
    "execution": {
     "iopub.execute_input": "2022-07-02T09:07:42.753315Z",
     "iopub.status.busy": "2022-07-02T09:07:42.752586Z",
     "iopub.status.idle": "2022-07-02T09:07:42.760388Z",
     "shell.execute_reply": "2022-07-02T09:07:42.759513Z"
    },
    "papermill": {
     "duration": 0.04215,
     "end_time": "2022-07-02T09:07:42.762792",
     "exception": false,
     "start_time": "2022-07-02T09:07:42.720642",
     "status": "completed"
    },
    "tags": []
   },
   "outputs": [],
   "source": [
    "test_data.drop(columns = drop_cols, inplace = True)\n",
    "train_data.drop(columns = drop_cols,inplace = True)"
   ]
  },
  {
   "cell_type": "code",
   "execution_count": 62,
   "id": "d5ef8ee8",
   "metadata": {
    "execution": {
     "iopub.execute_input": "2022-07-02T09:07:42.827655Z",
     "iopub.status.busy": "2022-07-02T09:07:42.826858Z",
     "iopub.status.idle": "2022-07-02T09:07:42.854428Z",
     "shell.execute_reply": "2022-07-02T09:07:42.853578Z"
    },
    "papermill": {
     "duration": 0.062382,
     "end_time": "2022-07-02T09:07:42.856900",
     "exception": false,
     "start_time": "2022-07-02T09:07:42.794518",
     "status": "completed"
    },
    "tags": []
   },
   "outputs": [
    {
     "data": {
      "text/html": [
       "<div>\n",
       "<style scoped>\n",
       "    .dataframe tbody tr th:only-of-type {\n",
       "        vertical-align: middle;\n",
       "    }\n",
       "\n",
       "    .dataframe tbody tr th {\n",
       "        vertical-align: top;\n",
       "    }\n",
       "\n",
       "    .dataframe thead th {\n",
       "        text-align: right;\n",
       "    }\n",
       "</style>\n",
       "<table border=\"1\" class=\"dataframe\">\n",
       "  <thead>\n",
       "    <tr style=\"text-align: right;\">\n",
       "      <th></th>\n",
       "      <th>Survived</th>\n",
       "      <th>IsAlone</th>\n",
       "      <th>FareBin</th>\n",
       "      <th>AgeBin</th>\n",
       "      <th>Ticket_Frequency</th>\n",
       "      <th>Is_Married</th>\n",
       "      <th>Pclass_1</th>\n",
       "      <th>Pclass_2</th>\n",
       "      <th>Pclass_3</th>\n",
       "      <th>Sex_1</th>\n",
       "      <th>...</th>\n",
       "      <th>Embarked_3</th>\n",
       "      <th>Title_1</th>\n",
       "      <th>Title_2</th>\n",
       "      <th>Title_3</th>\n",
       "      <th>Title_4</th>\n",
       "      <th>Title_5</th>\n",
       "      <th>FamilySize_Grouped_1</th>\n",
       "      <th>FamilySize_Grouped_2</th>\n",
       "      <th>FamilySize_Grouped_3</th>\n",
       "      <th>FamilySize_Grouped_4</th>\n",
       "    </tr>\n",
       "  </thead>\n",
       "  <tbody>\n",
       "    <tr>\n",
       "      <th>0</th>\n",
       "      <td>0</td>\n",
       "      <td>0</td>\n",
       "      <td>0</td>\n",
       "      <td>1</td>\n",
       "      <td>1</td>\n",
       "      <td>0</td>\n",
       "      <td>0.0</td>\n",
       "      <td>0.0</td>\n",
       "      <td>1.0</td>\n",
       "      <td>0.0</td>\n",
       "      <td>...</td>\n",
       "      <td>1.0</td>\n",
       "      <td>0.0</td>\n",
       "      <td>0.0</td>\n",
       "      <td>0.0</td>\n",
       "      <td>1.0</td>\n",
       "      <td>0.0</td>\n",
       "      <td>0.0</td>\n",
       "      <td>0.0</td>\n",
       "      <td>0.0</td>\n",
       "      <td>1.0</td>\n",
       "    </tr>\n",
       "    <tr>\n",
       "      <th>1</th>\n",
       "      <td>1</td>\n",
       "      <td>0</td>\n",
       "      <td>3</td>\n",
       "      <td>3</td>\n",
       "      <td>1</td>\n",
       "      <td>1</td>\n",
       "      <td>1.0</td>\n",
       "      <td>0.0</td>\n",
       "      <td>0.0</td>\n",
       "      <td>1.0</td>\n",
       "      <td>...</td>\n",
       "      <td>0.0</td>\n",
       "      <td>0.0</td>\n",
       "      <td>0.0</td>\n",
       "      <td>0.0</td>\n",
       "      <td>0.0</td>\n",
       "      <td>1.0</td>\n",
       "      <td>0.0</td>\n",
       "      <td>0.0</td>\n",
       "      <td>0.0</td>\n",
       "      <td>1.0</td>\n",
       "    </tr>\n",
       "    <tr>\n",
       "      <th>2</th>\n",
       "      <td>1</td>\n",
       "      <td>1</td>\n",
       "      <td>1</td>\n",
       "      <td>2</td>\n",
       "      <td>1</td>\n",
       "      <td>0</td>\n",
       "      <td>0.0</td>\n",
       "      <td>0.0</td>\n",
       "      <td>1.0</td>\n",
       "      <td>1.0</td>\n",
       "      <td>...</td>\n",
       "      <td>1.0</td>\n",
       "      <td>0.0</td>\n",
       "      <td>0.0</td>\n",
       "      <td>1.0</td>\n",
       "      <td>0.0</td>\n",
       "      <td>0.0</td>\n",
       "      <td>1.0</td>\n",
       "      <td>0.0</td>\n",
       "      <td>0.0</td>\n",
       "      <td>0.0</td>\n",
       "    </tr>\n",
       "    <tr>\n",
       "      <th>3</th>\n",
       "      <td>1</td>\n",
       "      <td>0</td>\n",
       "      <td>3</td>\n",
       "      <td>3</td>\n",
       "      <td>2</td>\n",
       "      <td>1</td>\n",
       "      <td>1.0</td>\n",
       "      <td>0.0</td>\n",
       "      <td>0.0</td>\n",
       "      <td>1.0</td>\n",
       "      <td>...</td>\n",
       "      <td>1.0</td>\n",
       "      <td>0.0</td>\n",
       "      <td>0.0</td>\n",
       "      <td>0.0</td>\n",
       "      <td>0.0</td>\n",
       "      <td>1.0</td>\n",
       "      <td>0.0</td>\n",
       "      <td>0.0</td>\n",
       "      <td>0.0</td>\n",
       "      <td>1.0</td>\n",
       "    </tr>\n",
       "    <tr>\n",
       "      <th>4</th>\n",
       "      <td>0</td>\n",
       "      <td>1</td>\n",
       "      <td>1</td>\n",
       "      <td>3</td>\n",
       "      <td>1</td>\n",
       "      <td>0</td>\n",
       "      <td>0.0</td>\n",
       "      <td>0.0</td>\n",
       "      <td>1.0</td>\n",
       "      <td>0.0</td>\n",
       "      <td>...</td>\n",
       "      <td>1.0</td>\n",
       "      <td>0.0</td>\n",
       "      <td>0.0</td>\n",
       "      <td>0.0</td>\n",
       "      <td>1.0</td>\n",
       "      <td>0.0</td>\n",
       "      <td>1.0</td>\n",
       "      <td>0.0</td>\n",
       "      <td>0.0</td>\n",
       "      <td>0.0</td>\n",
       "    </tr>\n",
       "  </tbody>\n",
       "</table>\n",
       "<p>5 rows × 27 columns</p>\n",
       "</div>"
      ],
      "text/plain": [
       "   Survived  IsAlone  FareBin  AgeBin  Ticket_Frequency  Is_Married  Pclass_1  \\\n",
       "0         0        0        0       1                 1           0       0.0   \n",
       "1         1        0        3       3                 1           1       1.0   \n",
       "2         1        1        1       2                 1           0       0.0   \n",
       "3         1        0        3       3                 2           1       1.0   \n",
       "4         0        1        1       3                 1           0       0.0   \n",
       "\n",
       "   Pclass_2  Pclass_3  Sex_1  ...  Embarked_3  Title_1  Title_2  Title_3  \\\n",
       "0       0.0       1.0    0.0  ...         1.0      0.0      0.0      0.0   \n",
       "1       0.0       0.0    1.0  ...         0.0      0.0      0.0      0.0   \n",
       "2       0.0       1.0    1.0  ...         1.0      0.0      0.0      1.0   \n",
       "3       0.0       0.0    1.0  ...         1.0      0.0      0.0      0.0   \n",
       "4       0.0       1.0    0.0  ...         1.0      0.0      0.0      0.0   \n",
       "\n",
       "   Title_4  Title_5  FamilySize_Grouped_1  FamilySize_Grouped_2  \\\n",
       "0      1.0      0.0                   0.0                   0.0   \n",
       "1      0.0      1.0                   0.0                   0.0   \n",
       "2      0.0      0.0                   1.0                   0.0   \n",
       "3      0.0      1.0                   0.0                   0.0   \n",
       "4      1.0      0.0                   1.0                   0.0   \n",
       "\n",
       "   FamilySize_Grouped_3  FamilySize_Grouped_4  \n",
       "0                   0.0                   1.0  \n",
       "1                   0.0                   1.0  \n",
       "2                   0.0                   0.0  \n",
       "3                   0.0                   1.0  \n",
       "4                   0.0                   0.0  \n",
       "\n",
       "[5 rows x 27 columns]"
      ]
     },
     "execution_count": 62,
     "metadata": {},
     "output_type": "execute_result"
    }
   ],
   "source": [
    "train_data.head()"
   ]
  },
  {
   "cell_type": "code",
   "execution_count": 63,
   "id": "01cdd7e0",
   "metadata": {
    "execution": {
     "iopub.execute_input": "2022-07-02T09:07:42.920348Z",
     "iopub.status.busy": "2022-07-02T09:07:42.919635Z",
     "iopub.status.idle": "2022-07-02T09:07:42.947838Z",
     "shell.execute_reply": "2022-07-02T09:07:42.946932Z"
    },
    "papermill": {
     "duration": 0.062649,
     "end_time": "2022-07-02T09:07:42.950061",
     "exception": false,
     "start_time": "2022-07-02T09:07:42.887412",
     "status": "completed"
    },
    "tags": []
   },
   "outputs": [
    {
     "data": {
      "text/html": [
       "<div>\n",
       "<style scoped>\n",
       "    .dataframe tbody tr th:only-of-type {\n",
       "        vertical-align: middle;\n",
       "    }\n",
       "\n",
       "    .dataframe tbody tr th {\n",
       "        vertical-align: top;\n",
       "    }\n",
       "\n",
       "    .dataframe thead th {\n",
       "        text-align: right;\n",
       "    }\n",
       "</style>\n",
       "<table border=\"1\" class=\"dataframe\">\n",
       "  <thead>\n",
       "    <tr style=\"text-align: right;\">\n",
       "      <th></th>\n",
       "      <th>IsAlone</th>\n",
       "      <th>FareBin</th>\n",
       "      <th>AgeBin</th>\n",
       "      <th>Ticket_Frequency</th>\n",
       "      <th>Is_Married</th>\n",
       "      <th>Pclass_1</th>\n",
       "      <th>Pclass_2</th>\n",
       "      <th>Pclass_3</th>\n",
       "      <th>Sex_1</th>\n",
       "      <th>Sex_2</th>\n",
       "      <th>...</th>\n",
       "      <th>Embarked_3</th>\n",
       "      <th>Title_1</th>\n",
       "      <th>Title_2</th>\n",
       "      <th>Title_3</th>\n",
       "      <th>Title_4</th>\n",
       "      <th>Title_5</th>\n",
       "      <th>FamilySize_Grouped_1</th>\n",
       "      <th>FamilySize_Grouped_2</th>\n",
       "      <th>FamilySize_Grouped_3</th>\n",
       "      <th>FamilySize_Grouped_4</th>\n",
       "    </tr>\n",
       "  </thead>\n",
       "  <tbody>\n",
       "    <tr>\n",
       "      <th>0</th>\n",
       "      <td>1</td>\n",
       "      <td>0</td>\n",
       "      <td>3</td>\n",
       "      <td>1</td>\n",
       "      <td>0</td>\n",
       "      <td>0.0</td>\n",
       "      <td>0.0</td>\n",
       "      <td>1.0</td>\n",
       "      <td>0.0</td>\n",
       "      <td>1.0</td>\n",
       "      <td>...</td>\n",
       "      <td>0.0</td>\n",
       "      <td>0.0</td>\n",
       "      <td>0.0</td>\n",
       "      <td>0.0</td>\n",
       "      <td>1.0</td>\n",
       "      <td>0.0</td>\n",
       "      <td>1.0</td>\n",
       "      <td>0.0</td>\n",
       "      <td>0.0</td>\n",
       "      <td>0.0</td>\n",
       "    </tr>\n",
       "    <tr>\n",
       "      <th>1</th>\n",
       "      <td>0</td>\n",
       "      <td>0</td>\n",
       "      <td>4</td>\n",
       "      <td>1</td>\n",
       "      <td>1</td>\n",
       "      <td>0.0</td>\n",
       "      <td>0.0</td>\n",
       "      <td>1.0</td>\n",
       "      <td>1.0</td>\n",
       "      <td>0.0</td>\n",
       "      <td>...</td>\n",
       "      <td>1.0</td>\n",
       "      <td>0.0</td>\n",
       "      <td>0.0</td>\n",
       "      <td>0.0</td>\n",
       "      <td>0.0</td>\n",
       "      <td>1.0</td>\n",
       "      <td>0.0</td>\n",
       "      <td>0.0</td>\n",
       "      <td>0.0</td>\n",
       "      <td>1.0</td>\n",
       "    </tr>\n",
       "    <tr>\n",
       "      <th>2</th>\n",
       "      <td>1</td>\n",
       "      <td>1</td>\n",
       "      <td>4</td>\n",
       "      <td>1</td>\n",
       "      <td>0</td>\n",
       "      <td>0.0</td>\n",
       "      <td>1.0</td>\n",
       "      <td>0.0</td>\n",
       "      <td>0.0</td>\n",
       "      <td>1.0</td>\n",
       "      <td>...</td>\n",
       "      <td>0.0</td>\n",
       "      <td>0.0</td>\n",
       "      <td>0.0</td>\n",
       "      <td>0.0</td>\n",
       "      <td>1.0</td>\n",
       "      <td>0.0</td>\n",
       "      <td>1.0</td>\n",
       "      <td>0.0</td>\n",
       "      <td>0.0</td>\n",
       "      <td>0.0</td>\n",
       "    </tr>\n",
       "    <tr>\n",
       "      <th>3</th>\n",
       "      <td>1</td>\n",
       "      <td>1</td>\n",
       "      <td>2</td>\n",
       "      <td>1</td>\n",
       "      <td>0</td>\n",
       "      <td>0.0</td>\n",
       "      <td>0.0</td>\n",
       "      <td>1.0</td>\n",
       "      <td>0.0</td>\n",
       "      <td>1.0</td>\n",
       "      <td>...</td>\n",
       "      <td>1.0</td>\n",
       "      <td>0.0</td>\n",
       "      <td>0.0</td>\n",
       "      <td>0.0</td>\n",
       "      <td>1.0</td>\n",
       "      <td>0.0</td>\n",
       "      <td>1.0</td>\n",
       "      <td>0.0</td>\n",
       "      <td>0.0</td>\n",
       "      <td>0.0</td>\n",
       "    </tr>\n",
       "    <tr>\n",
       "      <th>4</th>\n",
       "      <td>0</td>\n",
       "      <td>1</td>\n",
       "      <td>1</td>\n",
       "      <td>1</td>\n",
       "      <td>1</td>\n",
       "      <td>0.0</td>\n",
       "      <td>0.0</td>\n",
       "      <td>1.0</td>\n",
       "      <td>1.0</td>\n",
       "      <td>0.0</td>\n",
       "      <td>...</td>\n",
       "      <td>1.0</td>\n",
       "      <td>0.0</td>\n",
       "      <td>0.0</td>\n",
       "      <td>0.0</td>\n",
       "      <td>0.0</td>\n",
       "      <td>1.0</td>\n",
       "      <td>0.0</td>\n",
       "      <td>0.0</td>\n",
       "      <td>0.0</td>\n",
       "      <td>1.0</td>\n",
       "    </tr>\n",
       "  </tbody>\n",
       "</table>\n",
       "<p>5 rows × 26 columns</p>\n",
       "</div>"
      ],
      "text/plain": [
       "   IsAlone  FareBin  AgeBin  Ticket_Frequency  Is_Married  Pclass_1  Pclass_2  \\\n",
       "0        1        0       3                 1           0       0.0       0.0   \n",
       "1        0        0       4                 1           1       0.0       0.0   \n",
       "2        1        1       4                 1           0       0.0       1.0   \n",
       "3        1        1       2                 1           0       0.0       0.0   \n",
       "4        0        1       1                 1           1       0.0       0.0   \n",
       "\n",
       "   Pclass_3  Sex_1  Sex_2  ...  Embarked_3  Title_1  Title_2  Title_3  \\\n",
       "0       1.0    0.0    1.0  ...         0.0      0.0      0.0      0.0   \n",
       "1       1.0    1.0    0.0  ...         1.0      0.0      0.0      0.0   \n",
       "2       0.0    0.0    1.0  ...         0.0      0.0      0.0      0.0   \n",
       "3       1.0    0.0    1.0  ...         1.0      0.0      0.0      0.0   \n",
       "4       1.0    1.0    0.0  ...         1.0      0.0      0.0      0.0   \n",
       "\n",
       "   Title_4  Title_5  FamilySize_Grouped_1  FamilySize_Grouped_2  \\\n",
       "0      1.0      0.0                   1.0                   0.0   \n",
       "1      0.0      1.0                   0.0                   0.0   \n",
       "2      1.0      0.0                   1.0                   0.0   \n",
       "3      1.0      0.0                   1.0                   0.0   \n",
       "4      0.0      1.0                   0.0                   0.0   \n",
       "\n",
       "   FamilySize_Grouped_3  FamilySize_Grouped_4  \n",
       "0                   0.0                   0.0  \n",
       "1                   0.0                   1.0  \n",
       "2                   0.0                   0.0  \n",
       "3                   0.0                   0.0  \n",
       "4                   0.0                   1.0  \n",
       "\n",
       "[5 rows x 26 columns]"
      ]
     },
     "execution_count": 63,
     "metadata": {},
     "output_type": "execute_result"
    }
   ],
   "source": [
    "test_data.head()"
   ]
  },
  {
   "cell_type": "markdown",
   "id": "646f19f9",
   "metadata": {
    "papermill": {
     "duration": 0.033295,
     "end_time": "2022-07-02T09:07:43.014333",
     "exception": false,
     "start_time": "2022-07-02T09:07:42.981038",
     "status": "completed"
    },
    "tags": []
   },
   "source": [
    "<!DOCTYPE html>\n",
    "<html>\n",
    "<head>\n",
    "<title>\n",
    "</title>\n",
    "<meta name=\"viewport\" content=\"width=device-width, initial-scale=1\">\n",
    "</head>\n",
    "<body>\n",
    "<h1 style=\"color:DodgerBlue;\">\n",
    "5 Model Creation</h1>\n",
    "<ul style=\"color:DodgerBlue; list-style-type: square; padding: 10px; font-size:16px;\">\n",
    "    <li>Define X and Y</li>\n",
    "    <li>Scale using Standard Scaler</li>\n",
    "</body>\n",
    "</html>"
   ]
  },
  {
   "cell_type": "code",
   "execution_count": 64,
   "id": "19bb4f99",
   "metadata": {
    "execution": {
     "iopub.execute_input": "2022-07-02T09:07:43.078552Z",
     "iopub.status.busy": "2022-07-02T09:07:43.077816Z",
     "iopub.status.idle": "2022-07-02T09:07:43.083077Z",
     "shell.execute_reply": "2022-07-02T09:07:43.082228Z"
    },
    "papermill": {
     "duration": 0.039697,
     "end_time": "2022-07-02T09:07:43.085424",
     "exception": false,
     "start_time": "2022-07-02T09:07:43.045727",
     "status": "completed"
    },
    "tags": []
   },
   "outputs": [],
   "source": [
    "# let us Define X and Y first\n",
    "\n",
    "X = train_data.iloc[:,1:]\n",
    "Y = train_data[\"Survived\"]"
   ]
  },
  {
   "cell_type": "code",
   "execution_count": 65,
   "id": "e998ef49",
   "metadata": {
    "execution": {
     "iopub.execute_input": "2022-07-02T09:07:43.149900Z",
     "iopub.status.busy": "2022-07-02T09:07:43.149221Z",
     "iopub.status.idle": "2022-07-02T09:07:43.160084Z",
     "shell.execute_reply": "2022-07-02T09:07:43.159219Z"
    },
    "papermill": {
     "duration": 0.045607,
     "end_time": "2022-07-02T09:07:43.162429",
     "exception": false,
     "start_time": "2022-07-02T09:07:43.116822",
     "status": "completed"
    },
    "tags": []
   },
   "outputs": [],
   "source": [
    "# let scale using standard scaler\n",
    "\n",
    "scaler = StandardScaler()\n",
    "X_scale = scaler.fit_transform(X)\n",
    "test_data_scale = scaler.transform(test_data)"
   ]
  },
  {
   "cell_type": "code",
   "execution_count": 66,
   "id": "8366c772",
   "metadata": {
    "execution": {
     "iopub.execute_input": "2022-07-02T09:07:43.226783Z",
     "iopub.status.busy": "2022-07-02T09:07:43.226058Z",
     "iopub.status.idle": "2022-07-02T09:07:43.231565Z",
     "shell.execute_reply": "2022-07-02T09:07:43.230790Z"
    },
    "papermill": {
     "duration": 0.040915,
     "end_time": "2022-07-02T09:07:43.233923",
     "exception": false,
     "start_time": "2022-07-02T09:07:43.193008",
     "status": "completed"
    },
    "tags": []
   },
   "outputs": [
    {
     "name": "stdout",
     "output_type": "stream",
     "text": [
      "X_train shape: (891, 26)\n",
      "y_train shape: (891,)\n",
      "X_test shape: (418, 26)\n"
     ]
    }
   ],
   "source": [
    "print('X_train shape: {}'.format(X_scale.shape))\n",
    "print('y_train shape: {}'.format(Y.shape))\n",
    "print('X_test shape: {}'.format(test_data_scale.shape))"
   ]
  },
  {
   "cell_type": "markdown",
   "id": "bec2d28a",
   "metadata": {
    "papermill": {
     "duration": 0.030874,
     "end_time": "2022-07-02T09:07:43.296090",
     "exception": false,
     "start_time": "2022-07-02T09:07:43.265216",
     "status": "completed"
    },
    "tags": []
   },
   "source": [
    "<!DOCTYPE html>\n",
    "<html>\n",
    "<head>\n",
    "<title>\n",
    "</title>\n",
    "<meta name=\"viewport\" content=\"width=device-width, initial-scale=1\">\n",
    "</head>\n",
    "<body>\n",
    "<h1 style=\"color:DodgerBlue;\">\n",
    "Logistic Model</h1>\n",
    "<ul style=\"color:DodgerBlue; list-style-type: square; padding: 10px; font-size:16px;\">\n",
    "    <li>Model Creation</li>\n",
    "    <li>Hyper Parameter tuning</li>\n",
    "<ul>\n",
    "</body>\n",
    "</html>"
   ]
  },
  {
   "cell_type": "code",
   "execution_count": 67,
   "id": "31cafe61",
   "metadata": {
    "execution": {
     "iopub.execute_input": "2022-07-02T09:07:43.361199Z",
     "iopub.status.busy": "2022-07-02T09:07:43.359909Z",
     "iopub.status.idle": "2022-07-02T09:07:43.450250Z",
     "shell.execute_reply": "2022-07-02T09:07:43.449338Z"
    },
    "papermill": {
     "duration": 0.125412,
     "end_time": "2022-07-02T09:07:43.452731",
     "exception": false,
     "start_time": "2022-07-02T09:07:43.327319",
     "status": "completed"
    },
    "tags": []
   },
   "outputs": [],
   "source": [
    "# Logistic Model \n",
    "from sklearn.linear_model import LogisticRegression"
   ]
  },
  {
   "cell_type": "code",
   "execution_count": 68,
   "id": "fd369e1d",
   "metadata": {
    "execution": {
     "iopub.execute_input": "2022-07-02T09:07:43.517875Z",
     "iopub.status.busy": "2022-07-02T09:07:43.517211Z",
     "iopub.status.idle": "2022-07-02T09:07:43.521712Z",
     "shell.execute_reply": "2022-07-02T09:07:43.520556Z"
    },
    "papermill": {
     "duration": 0.039382,
     "end_time": "2022-07-02T09:07:43.523935",
     "exception": false,
     "start_time": "2022-07-02T09:07:43.484553",
     "status": "completed"
    },
    "tags": []
   },
   "outputs": [],
   "source": [
    "Logistic_Reg_Model = LogisticRegression()"
   ]
  },
  {
   "cell_type": "code",
   "execution_count": 69,
   "id": "a2189fd9",
   "metadata": {
    "execution": {
     "iopub.execute_input": "2022-07-02T09:07:43.588070Z",
     "iopub.status.busy": "2022-07-02T09:07:43.587437Z",
     "iopub.status.idle": "2022-07-02T09:07:43.622347Z",
     "shell.execute_reply": "2022-07-02T09:07:43.621030Z"
    },
    "papermill": {
     "duration": 0.071058,
     "end_time": "2022-07-02T09:07:43.625836",
     "exception": false,
     "start_time": "2022-07-02T09:07:43.554778",
     "status": "completed"
    },
    "tags": []
   },
   "outputs": [
    {
     "data": {
      "text/plain": [
       "LogisticRegression()"
      ]
     },
     "execution_count": 69,
     "metadata": {},
     "output_type": "execute_result"
    }
   ],
   "source": [
    "Logistic_Reg_Model.fit(X_scale,Y)"
   ]
  },
  {
   "cell_type": "code",
   "execution_count": 70,
   "id": "69eed7b4",
   "metadata": {
    "execution": {
     "iopub.execute_input": "2022-07-02T09:07:43.742355Z",
     "iopub.status.busy": "2022-07-02T09:07:43.741238Z",
     "iopub.status.idle": "2022-07-02T09:07:43.748784Z",
     "shell.execute_reply": "2022-07-02T09:07:43.747514Z"
    },
    "papermill": {
     "duration": 0.067663,
     "end_time": "2022-07-02T09:07:43.752309",
     "exception": false,
     "start_time": "2022-07-02T09:07:43.684646",
     "status": "completed"
    },
    "tags": []
   },
   "outputs": [],
   "source": [
    "y_test_pred = Logistic_Reg_Model.predict(test_data_scale)"
   ]
  },
  {
   "cell_type": "code",
   "execution_count": 71,
   "id": "933e1ef8",
   "metadata": {
    "execution": {
     "iopub.execute_input": "2022-07-02T09:07:43.870068Z",
     "iopub.status.busy": "2022-07-02T09:07:43.869663Z",
     "iopub.status.idle": "2022-07-02T09:07:43.875756Z",
     "shell.execute_reply": "2022-07-02T09:07:43.874926Z"
    },
    "papermill": {
     "duration": 0.066546,
     "end_time": "2022-07-02T09:07:43.877829",
     "exception": false,
     "start_time": "2022-07-02T09:07:43.811283",
     "status": "completed"
    },
    "tags": []
   },
   "outputs": [],
   "source": [
    "# Hyper Parameter tunning for Logistic Regression\n",
    "from sklearn.model_selection import GridSearchCV\n",
    "\n",
    "# parameter grid\n",
    "parameters = {\n",
    "    'penalty' : ['l1','l2'], \n",
    "    'C'       : np.logspace(-3,3,7),\n",
    "    'solver'  : ['newton-cg', 'lbfgs', 'liblinear'],\n",
    "}"
   ]
  },
  {
   "cell_type": "code",
   "execution_count": 72,
   "id": "7d1e2737",
   "metadata": {
    "execution": {
     "iopub.execute_input": "2022-07-02T09:07:43.942432Z",
     "iopub.status.busy": "2022-07-02T09:07:43.941709Z",
     "iopub.status.idle": "2022-07-02T09:07:43.946431Z",
     "shell.execute_reply": "2022-07-02T09:07:43.945537Z"
    },
    "papermill": {
     "duration": 0.039841,
     "end_time": "2022-07-02T09:07:43.948609",
     "exception": false,
     "start_time": "2022-07-02T09:07:43.908768",
     "status": "completed"
    },
    "tags": []
   },
   "outputs": [],
   "source": [
    "logistic = LogisticRegression()\n",
    "clf = GridSearchCV(logistic,                  \n",
    "                   param_grid = parameters,   \n",
    "                   scoring='accuracy',\n",
    "                   cv=10)"
   ]
  },
  {
   "cell_type": "code",
   "execution_count": 73,
   "id": "330235e0",
   "metadata": {
    "execution": {
     "iopub.execute_input": "2022-07-02T09:07:44.015127Z",
     "iopub.status.busy": "2022-07-02T09:07:44.014532Z",
     "iopub.status.idle": "2022-07-02T09:07:52.143710Z",
     "shell.execute_reply": "2022-07-02T09:07:52.142044Z"
    },
    "papermill": {
     "duration": 8.165638,
     "end_time": "2022-07-02T09:07:52.146354",
     "exception": false,
     "start_time": "2022-07-02T09:07:43.980716",
     "status": "completed"
    },
    "tags": []
   },
   "outputs": [
    {
     "name": "stderr",
     "output_type": "stream",
     "text": [
      "/opt/conda/lib/python3.7/site-packages/sklearn/model_selection/_validation.py:372: FitFailedWarning: \n",
      "140 fits failed out of a total of 420.\n",
      "The score on these train-test partitions for these parameters will be set to nan.\n",
      "If these failures are not expected, you can try to debug them by setting error_score='raise'.\n",
      "\n",
      "Below are more details about the failures:\n",
      "--------------------------------------------------------------------------------\n",
      "70 fits failed with the following error:\n",
      "Traceback (most recent call last):\n",
      "  File \"/opt/conda/lib/python3.7/site-packages/sklearn/model_selection/_validation.py\", line 680, in _fit_and_score\n",
      "    estimator.fit(X_train, y_train, **fit_params)\n",
      "  File \"/opt/conda/lib/python3.7/site-packages/sklearn/linear_model/_logistic.py\", line 1461, in fit\n",
      "    solver = _check_solver(self.solver, self.penalty, self.dual)\n",
      "  File \"/opt/conda/lib/python3.7/site-packages/sklearn/linear_model/_logistic.py\", line 449, in _check_solver\n",
      "    % (solver, penalty)\n",
      "ValueError: Solver newton-cg supports only 'l2' or 'none' penalties, got l1 penalty.\n",
      "\n",
      "--------------------------------------------------------------------------------\n",
      "70 fits failed with the following error:\n",
      "Traceback (most recent call last):\n",
      "  File \"/opt/conda/lib/python3.7/site-packages/sklearn/model_selection/_validation.py\", line 680, in _fit_and_score\n",
      "    estimator.fit(X_train, y_train, **fit_params)\n",
      "  File \"/opt/conda/lib/python3.7/site-packages/sklearn/linear_model/_logistic.py\", line 1461, in fit\n",
      "    solver = _check_solver(self.solver, self.penalty, self.dual)\n",
      "  File \"/opt/conda/lib/python3.7/site-packages/sklearn/linear_model/_logistic.py\", line 449, in _check_solver\n",
      "    % (solver, penalty)\n",
      "ValueError: Solver lbfgs supports only 'l2' or 'none' penalties, got l1 penalty.\n",
      "\n",
      "  warnings.warn(some_fits_failed_message, FitFailedWarning)\n",
      "/opt/conda/lib/python3.7/site-packages/sklearn/model_selection/_search.py:972: UserWarning: One or more of the test scores are non-finite: [       nan        nan 0.61616729 0.78905119 0.78905119 0.79124844\n",
      "        nan        nan 0.78228464 0.82602996 0.82602996 0.82719101\n",
      "        nan        nan 0.82942572 0.82604245 0.82604245 0.82604245\n",
      "        nan        nan 0.82491885 0.82267166 0.82267166 0.82267166\n",
      "        nan        nan 0.82267166 0.82267166 0.82267166 0.82267166\n",
      "        nan        nan 0.82267166 0.82267166 0.82267166 0.82267166\n",
      "        nan        nan 0.82267166 0.82267166 0.82267166 0.82267166]\n",
      "  category=UserWarning,\n"
     ]
    },
    {
     "data": {
      "text/plain": [
       "GridSearchCV(cv=10, estimator=LogisticRegression(),\n",
       "             param_grid={'C': array([1.e-03, 1.e-02, 1.e-01, 1.e+00, 1.e+01, 1.e+02, 1.e+03]),\n",
       "                         'penalty': ['l1', 'l2'],\n",
       "                         'solver': ['newton-cg', 'lbfgs', 'liblinear']},\n",
       "             scoring='accuracy')"
      ]
     },
     "execution_count": 73,
     "metadata": {},
     "output_type": "execute_result"
    }
   ],
   "source": [
    "clf.fit(X_scale,Y)"
   ]
  },
  {
   "cell_type": "code",
   "execution_count": 74,
   "id": "f593e9a3",
   "metadata": {
    "execution": {
     "iopub.execute_input": "2022-07-02T09:07:52.211459Z",
     "iopub.status.busy": "2022-07-02T09:07:52.210505Z",
     "iopub.status.idle": "2022-07-02T09:07:52.216858Z",
     "shell.execute_reply": "2022-07-02T09:07:52.215681Z"
    },
    "papermill": {
     "duration": 0.04163,
     "end_time": "2022-07-02T09:07:52.219314",
     "exception": false,
     "start_time": "2022-07-02T09:07:52.177684",
     "status": "completed"
    },
    "tags": []
   },
   "outputs": [
    {
     "name": "stdout",
     "output_type": "stream",
     "text": [
      "Tuned Hyperparameters : {'C': 0.1, 'penalty': 'l1', 'solver': 'liblinear'}\n",
      "Accuracy : 0.8294257178526842\n"
     ]
    }
   ],
   "source": [
    "print(\"Tuned Hyperparameters :\", clf.best_params_)\n",
    "print(\"Accuracy :\",clf.best_score_)"
   ]
  },
  {
   "cell_type": "code",
   "execution_count": 75,
   "id": "7e37cddf",
   "metadata": {
    "execution": {
     "iopub.execute_input": "2022-07-02T09:07:52.284355Z",
     "iopub.status.busy": "2022-07-02T09:07:52.283932Z",
     "iopub.status.idle": "2022-07-02T09:07:52.289076Z",
     "shell.execute_reply": "2022-07-02T09:07:52.287958Z"
    },
    "papermill": {
     "duration": 0.04033,
     "end_time": "2022-07-02T09:07:52.291311",
     "exception": false,
     "start_time": "2022-07-02T09:07:52.250981",
     "status": "completed"
    },
    "tags": []
   },
   "outputs": [],
   "source": [
    "best_logistic_model = LogisticRegression(C = 0.1, \n",
    "                            penalty = 'l1', \n",
    "                            solver = 'liblinear')"
   ]
  },
  {
   "cell_type": "code",
   "execution_count": 76,
   "id": "f7a86fc1",
   "metadata": {
    "execution": {
     "iopub.execute_input": "2022-07-02T09:07:52.355910Z",
     "iopub.status.busy": "2022-07-02T09:07:52.355527Z",
     "iopub.status.idle": "2022-07-02T09:07:52.369969Z",
     "shell.execute_reply": "2022-07-02T09:07:52.369141Z"
    },
    "papermill": {
     "duration": 0.049831,
     "end_time": "2022-07-02T09:07:52.372489",
     "exception": false,
     "start_time": "2022-07-02T09:07:52.322658",
     "status": "completed"
    },
    "tags": []
   },
   "outputs": [
    {
     "data": {
      "text/plain": [
       "LogisticRegression(C=0.1, penalty='l1', solver='liblinear')"
      ]
     },
     "execution_count": 76,
     "metadata": {},
     "output_type": "execute_result"
    }
   ],
   "source": [
    "best_logistic_model.fit(X_scale,Y)"
   ]
  },
  {
   "cell_type": "code",
   "execution_count": 77,
   "id": "0570f243",
   "metadata": {
    "execution": {
     "iopub.execute_input": "2022-07-02T09:07:52.440068Z",
     "iopub.status.busy": "2022-07-02T09:07:52.439280Z",
     "iopub.status.idle": "2022-07-02T09:07:52.444733Z",
     "shell.execute_reply": "2022-07-02T09:07:52.443518Z"
    },
    "papermill": {
     "duration": 0.043529,
     "end_time": "2022-07-02T09:07:52.448963",
     "exception": false,
     "start_time": "2022-07-02T09:07:52.405434",
     "status": "completed"
    },
    "tags": []
   },
   "outputs": [],
   "source": [
    "y_test_pred = best_logistic_model.predict(test_data_scale)"
   ]
  },
  {
   "cell_type": "code",
   "execution_count": 78,
   "id": "93b5d79c",
   "metadata": {
    "execution": {
     "iopub.execute_input": "2022-07-02T09:07:52.568519Z",
     "iopub.status.busy": "2022-07-02T09:07:52.568119Z",
     "iopub.status.idle": "2022-07-02T09:07:52.583926Z",
     "shell.execute_reply": "2022-07-02T09:07:52.583095Z"
    },
    "papermill": {
     "duration": 0.07752,
     "end_time": "2022-07-02T09:07:52.586520",
     "exception": false,
     "start_time": "2022-07-02T09:07:52.509000",
     "status": "completed"
    },
    "tags": []
   },
   "outputs": [],
   "source": [
    "#submission --------- Submission.csv File\n",
    "submission_frame = pd.read_csv(\"../input/titanic/gender_submission.csv\")\n",
    "submission_frame[\"Survived\"] = y_test_pred\n",
    "submission_frame.to_csv(\"submission.csv\",index = False)"
   ]
  }
 ],
 "metadata": {
  "kernelspec": {
   "display_name": "Python 3",
   "language": "python",
   "name": "python3"
  },
  "language_info": {
   "codemirror_mode": {
    "name": "ipython",
    "version": 3
   },
   "file_extension": ".py",
   "mimetype": "text/x-python",
   "name": "python",
   "nbconvert_exporter": "python",
   "pygments_lexer": "ipython3",
   "version": "3.7.12"
  },
  "papermill": {
   "default_parameters": {},
   "duration": 29.424402,
   "end_time": "2022-07-02T09:07:53.441265",
   "environment_variables": {},
   "exception": null,
   "input_path": "__notebook__.ipynb",
   "output_path": "__notebook__.ipynb",
   "parameters": {},
   "start_time": "2022-07-02T09:07:24.016863",
   "version": "2.3.4"
  }
 },
 "nbformat": 4,
 "nbformat_minor": 5
}
